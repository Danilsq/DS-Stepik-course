{
 "cells": [
  {
   "cell_type": "code",
   "execution_count": 2,
   "id": "1cea7436",
   "metadata": {},
   "outputs": [],
   "source": [
    "#загрузка пакетов и библиотек\n",
    "import pandas as pd\n",
    "import numpy as np\n",
    "%matplotlib inline\n",
    "import matplotlib.pyplot as plt\n",
    "import seaborn as sns\n",
    "import warnings\n",
    "warnings.simplefilter('ignore')"
   ]
  },
  {
   "cell_type": "code",
   "execution_count": 3,
   "id": "82c03436",
   "metadata": {},
   "outputs": [],
   "source": [
    "# Подгружаем доп. модули\n",
    "from kaggle.api.kaggle_api_extended import KaggleApi\n",
    "from sklearn.model_selection import train_test_split\n",
    "from sklearn.model_selection import cross_val_score\n",
    "from sklearn.model_selection import GridSearchCV\n",
    "from sklearn.metrics import roc_curve, auc"
   ]
  },
  {
   "cell_type": "code",
   "execution_count": 4,
   "id": "b127fa99",
   "metadata": {},
   "outputs": [],
   "source": [
    "from sklearn import tree\n",
    "from IPython.display import SVG\n",
    "from IPython.display import display\n",
    "from graphviz import Source"
   ]
  },
  {
   "cell_type": "code",
   "execution_count": 5,
   "id": "056b0902",
   "metadata": {},
   "outputs": [
    {
     "data": {
      "text/html": [
       "<style>{width:70% !important;height: 70% !important;}</style>"
      ],
      "text/plain": [
       "<IPython.core.display.HTML object>"
      ]
     },
     "execution_count": 5,
     "metadata": {},
     "output_type": "execute_result"
    }
   ],
   "source": [
    "from IPython.display import HTML\n",
    "style = \"<style>{width:70% !important;height: 70% !important;}</style>\"\n",
    "HTML(style)"
   ]
  },
  {
   "cell_type": "code",
   "execution_count": 6,
   "id": "8cefa852",
   "metadata": {},
   "outputs": [],
   "source": [
    "sns.set(rc = {'figure.figsize': (9, 6)})"
   ]
  },
  {
   "cell_type": "markdown",
   "id": "64e0436c",
   "metadata": {},
   "source": [
    "# Анализ времени прохождения курса по статистике на \"Stepik\""
   ]
  },
  {
   "cell_type": "markdown",
   "id": "d1e0ba59",
   "metadata": {},
   "source": [
    "# Предобработка данных"
   ]
  },
  {
   "cell_type": "markdown",
   "id": "15900357",
   "metadata": {},
   "source": [
    "`events_train.csv` - данные о действиях, которые совершают студенты со стэпами\n",
    "\n",
    "1. step_id - id стэпа\n",
    "2. user_id - анонимизированный id юзера\n",
    "3. timestamp - время наступления события в формате unix date\n",
    "4. action - событие, возможные значения: \n",
    "\n",
    "- _discovered_ - пользователь перешел на стэп\n",
    "- _viewed_ - просмотр шага,\n",
    "- _started_attempt_ - начало попытки решить шаг, ранее нужно было явно нажать на кнопку - начать решение, перед тем как - - приступить к решению практического шага\n",
    "- _passed_ - удачное решение практического шага"
   ]
  },
  {
   "cell_type": "code",
   "execution_count": 85,
   "id": "4a50dc7e",
   "metadata": {},
   "outputs": [],
   "source": [
    "events_data = pd.read_csv('https://stepik.org/media/attachments/course/4852/event_data_train.zip', sep = ',')"
   ]
  },
  {
   "cell_type": "code",
   "execution_count": 86,
   "id": "3a83925d",
   "metadata": {},
   "outputs": [
    {
     "data": {
      "text/html": [
       "<div>\n",
       "<style scoped>\n",
       "    .dataframe tbody tr th:only-of-type {\n",
       "        vertical-align: middle;\n",
       "    }\n",
       "\n",
       "    .dataframe tbody tr th {\n",
       "        vertical-align: top;\n",
       "    }\n",
       "\n",
       "    .dataframe thead th {\n",
       "        text-align: right;\n",
       "    }\n",
       "</style>\n",
       "<table border=\"1\" class=\"dataframe\">\n",
       "  <thead>\n",
       "    <tr style=\"text-align: right;\">\n",
       "      <th></th>\n",
       "      <th>step_id</th>\n",
       "      <th>timestamp</th>\n",
       "      <th>action</th>\n",
       "      <th>user_id</th>\n",
       "    </tr>\n",
       "  </thead>\n",
       "  <tbody>\n",
       "    <tr>\n",
       "      <th>0</th>\n",
       "      <td>32815</td>\n",
       "      <td>1434340848</td>\n",
       "      <td>viewed</td>\n",
       "      <td>17632</td>\n",
       "    </tr>\n",
       "    <tr>\n",
       "      <th>1</th>\n",
       "      <td>32815</td>\n",
       "      <td>1434340848</td>\n",
       "      <td>passed</td>\n",
       "      <td>17632</td>\n",
       "    </tr>\n",
       "    <tr>\n",
       "      <th>2</th>\n",
       "      <td>32815</td>\n",
       "      <td>1434340848</td>\n",
       "      <td>discovered</td>\n",
       "      <td>17632</td>\n",
       "    </tr>\n",
       "    <tr>\n",
       "      <th>3</th>\n",
       "      <td>32811</td>\n",
       "      <td>1434340895</td>\n",
       "      <td>discovered</td>\n",
       "      <td>17632</td>\n",
       "    </tr>\n",
       "    <tr>\n",
       "      <th>4</th>\n",
       "      <td>32811</td>\n",
       "      <td>1434340895</td>\n",
       "      <td>viewed</td>\n",
       "      <td>17632</td>\n",
       "    </tr>\n",
       "  </tbody>\n",
       "</table>\n",
       "</div>"
      ],
      "text/plain": [
       "   step_id   timestamp      action  user_id\n",
       "0    32815  1434340848      viewed    17632\n",
       "1    32815  1434340848      passed    17632\n",
       "2    32815  1434340848  discovered    17632\n",
       "3    32811  1434340895  discovered    17632\n",
       "4    32811  1434340895      viewed    17632"
      ]
     },
     "execution_count": 86,
     "metadata": {},
     "output_type": "execute_result"
    }
   ],
   "source": [
    "events_data.head(5)"
   ]
  },
  {
   "cell_type": "markdown",
   "id": "4b76ef1d",
   "metadata": {},
   "source": [
    "`submissions_train.csv` - данные о времени и статусах сабмитов к практическим заданиям\n",
    "\n",
    "1. step_id - id стэпа\n",
    "2. timestamp - время отправки решения в формате unix date\n",
    "3. submission_status - статус решения\n",
    "4. user_id - анонимизированный id юзера"
   ]
  },
  {
   "cell_type": "code",
   "execution_count": 87,
   "id": "aaf0399a",
   "metadata": {},
   "outputs": [],
   "source": [
    "submissions_train = pd.read_csv('https://stepik.org/media/attachments/course/4852/submissions_data_train.zip', sep = ',')"
   ]
  },
  {
   "cell_type": "code",
   "execution_count": 88,
   "id": "d15f41f7",
   "metadata": {},
   "outputs": [
    {
     "data": {
      "text/html": [
       "<div>\n",
       "<style scoped>\n",
       "    .dataframe tbody tr th:only-of-type {\n",
       "        vertical-align: middle;\n",
       "    }\n",
       "\n",
       "    .dataframe tbody tr th {\n",
       "        vertical-align: top;\n",
       "    }\n",
       "\n",
       "    .dataframe thead th {\n",
       "        text-align: right;\n",
       "    }\n",
       "</style>\n",
       "<table border=\"1\" class=\"dataframe\">\n",
       "  <thead>\n",
       "    <tr style=\"text-align: right;\">\n",
       "      <th></th>\n",
       "      <th>step_id</th>\n",
       "      <th>timestamp</th>\n",
       "      <th>submission_status</th>\n",
       "      <th>user_id</th>\n",
       "    </tr>\n",
       "  </thead>\n",
       "  <tbody>\n",
       "    <tr>\n",
       "      <th>0</th>\n",
       "      <td>31971</td>\n",
       "      <td>1434349275</td>\n",
       "      <td>correct</td>\n",
       "      <td>15853</td>\n",
       "    </tr>\n",
       "    <tr>\n",
       "      <th>1</th>\n",
       "      <td>31972</td>\n",
       "      <td>1434348300</td>\n",
       "      <td>correct</td>\n",
       "      <td>15853</td>\n",
       "    </tr>\n",
       "    <tr>\n",
       "      <th>2</th>\n",
       "      <td>31972</td>\n",
       "      <td>1478852149</td>\n",
       "      <td>wrong</td>\n",
       "      <td>15853</td>\n",
       "    </tr>\n",
       "    <tr>\n",
       "      <th>3</th>\n",
       "      <td>31972</td>\n",
       "      <td>1478852164</td>\n",
       "      <td>correct</td>\n",
       "      <td>15853</td>\n",
       "    </tr>\n",
       "    <tr>\n",
       "      <th>4</th>\n",
       "      <td>31976</td>\n",
       "      <td>1434348123</td>\n",
       "      <td>wrong</td>\n",
       "      <td>15853</td>\n",
       "    </tr>\n",
       "  </tbody>\n",
       "</table>\n",
       "</div>"
      ],
      "text/plain": [
       "   step_id   timestamp submission_status  user_id\n",
       "0    31971  1434349275           correct    15853\n",
       "1    31972  1434348300           correct    15853\n",
       "2    31972  1478852149             wrong    15853\n",
       "3    31972  1478852164           correct    15853\n",
       "4    31976  1434348123             wrong    15853"
      ]
     },
     "execution_count": 88,
     "metadata": {},
     "output_type": "execute_result"
    }
   ],
   "source": [
    "submissions_train.head(5)"
   ]
  },
  {
   "cell_type": "code",
   "execution_count": 89,
   "id": "17e19640",
   "metadata": {},
   "outputs": [],
   "source": [
    "events_data['date'] = pd.to_datetime(events_data.timestamp, unit = 's')\n",
    "events_data['date'] = events_data.date.dt.date"
   ]
  },
  {
   "cell_type": "code",
   "execution_count": 90,
   "id": "611f8acb",
   "metadata": {},
   "outputs": [],
   "source": [
    "submissions_train['date'] = pd.to_datetime(submissions_train.timestamp, unit = 's')\n",
    "submissions_train['date'] = submissions_train.date.dt.date"
   ]
  },
  {
   "cell_type": "code",
   "execution_count": 91,
   "id": "d3fc1dd1",
   "metadata": {},
   "outputs": [
    {
     "data": {
      "text/plain": [
       "[Text(0.5, 0, 'Date'),\n",
       " Text(0, 0.5, 'Count of unique users'),\n",
       " Text(0.5, 1.0, 'Distribution of unique users in time')]"
      ]
     },
     "execution_count": 91,
     "metadata": {},
     "output_type": "execute_result"
    },
    {
     "data": {
      "image/png": "[encoded data removed]",
      "text/plain": [
       "<Figure size 648x432 with 1 Axes>"
      ]
     },
     "metadata": {},
     "output_type": "display_data"
    }
   ],
   "source": [
    "events_data.groupby('date').user_id.nunique().plot().set(xlabel = 'Date', \n",
    "                                                         ylabel = 'Count of unique users', \n",
    "                                                         title = 'Distribution of unique users in time')\n",
    "#виден первоначальный хайп курса, в дальнейшем уровень интереса упал, однако заметен на протяжении всего периода после \n",
    "#падения тренд на возрастание числа уникальных пользователей"
   ]
  },
  {
   "cell_type": "code",
   "execution_count": 92,
   "id": "5f59e5f8",
   "metadata": {},
   "outputs": [],
   "source": [
    "user_events = events_data.pivot_table(\n",
    "    index = 'user_id', \n",
    "    columns = 'action', \n",
    "    values = 'step_id', \n",
    "    aggfunc = 'count', \n",
    "    fill_value = 0\n",
    ").reset_index().rename_axis('', axis = 1)"
   ]
  },
  {
   "cell_type": "code",
   "execution_count": 93,
   "id": "e26c4ca1",
   "metadata": {},
   "outputs": [
    {
     "data": {
      "text/plain": [
       "[Text(0.5, 0, 'Count of solved tasks'),\n",
       " Text(0, 0.5, 'Count of users'),\n",
       " Text(0.5, 1.0, 'Distribution of solved tasks by users')]"
      ]
     },
     "execution_count": 93,
     "metadata": {},
     "output_type": "execute_result"
    },
    {
     "data": {
      "image/png": "[encoded data removed]",
      "text/plain": [
       "<Figure size 648x432 with 1 Axes>"
      ]
     },
     "metadata": {},
     "output_type": "display_data"
    }
   ],
   "source": [
    "user_events.passed.hist().set(xlabel = 'Count of solved tasks',\n",
    "                             ylabel = 'Count of users',\n",
    "                             title = 'Distribution of solved tasks by users')"
   ]
  },
  {
   "cell_type": "code",
   "execution_count": 94,
   "id": "fb1679e3",
   "metadata": {},
   "outputs": [
    {
     "data": {
      "text/plain": [
       "1972"
      ]
     },
     "execution_count": 94,
     "metadata": {},
     "output_type": "execute_result"
    }
   ],
   "source": [
    "# 1972 чащихся не решили ни одной задачи\n",
    "user_events.query('passed == 0').shape[0]"
   ]
  },
  {
   "cell_type": "code",
   "execution_count": 95,
   "id": "88e1d95b",
   "metadata": {},
   "outputs": [],
   "source": [
    "user_submissions = submissions_train.pivot_table(\n",
    "    index='user_id', \n",
    "    columns='submission_status', \n",
    "    values='step_id', \n",
    "    aggfunc='count', \n",
    "    fill_value=0\n",
    ").reset_index().rename_axis('', axis=1)"
   ]
  },
  {
   "cell_type": "code",
   "execution_count": 96,
   "id": "baeb2a63",
   "metadata": {},
   "outputs": [],
   "source": [
    "# Сколько уникальных дней учились пользователи:\n",
    "unique_days = events_data.groupby('user_id').date.nunique().to_frame() \\\n",
    "    .rename(columns={'date': 'unique_days'})"
   ]
  },
  {
   "cell_type": "code",
   "execution_count": 97,
   "id": "38e6fd31",
   "metadata": {},
   "outputs": [
    {
     "data": {
      "text/html": [
       "<div>\n",
       "<style scoped>\n",
       "    .dataframe tbody tr th:only-of-type {\n",
       "        vertical-align: middle;\n",
       "    }\n",
       "\n",
       "    .dataframe tbody tr th {\n",
       "        vertical-align: top;\n",
       "    }\n",
       "\n",
       "    .dataframe thead th {\n",
       "        text-align: right;\n",
       "    }\n",
       "</style>\n",
       "<table border=\"1\" class=\"dataframe\">\n",
       "  <thead>\n",
       "    <tr style=\"text-align: right;\">\n",
       "      <th></th>\n",
       "      <th>unique_days</th>\n",
       "    </tr>\n",
       "  </thead>\n",
       "  <tbody>\n",
       "    <tr>\n",
       "      <th>count</th>\n",
       "      <td>19234.000000</td>\n",
       "    </tr>\n",
       "    <tr>\n",
       "      <th>mean</th>\n",
       "      <td>6.088489</td>\n",
       "    </tr>\n",
       "    <tr>\n",
       "      <th>std</th>\n",
       "      <td>12.341683</td>\n",
       "    </tr>\n",
       "    <tr>\n",
       "      <th>min</th>\n",
       "      <td>1.000000</td>\n",
       "    </tr>\n",
       "    <tr>\n",
       "      <th>50%</th>\n",
       "      <td>1.000000</td>\n",
       "    </tr>\n",
       "    <tr>\n",
       "      <th>51%</th>\n",
       "      <td>2.000000</td>\n",
       "    </tr>\n",
       "    <tr>\n",
       "      <th>60%</th>\n",
       "      <td>2.000000</td>\n",
       "    </tr>\n",
       "    <tr>\n",
       "      <th>61%</th>\n",
       "      <td>3.000000</td>\n",
       "    </tr>\n",
       "    <tr>\n",
       "      <th>66%</th>\n",
       "      <td>3.000000</td>\n",
       "    </tr>\n",
       "    <tr>\n",
       "      <th>67%</th>\n",
       "      <td>4.000000</td>\n",
       "    </tr>\n",
       "    <tr>\n",
       "      <th>70%</th>\n",
       "      <td>4.000000</td>\n",
       "    </tr>\n",
       "    <tr>\n",
       "      <th>71%</th>\n",
       "      <td>5.000000</td>\n",
       "    </tr>\n",
       "    <tr>\n",
       "      <th>73%</th>\n",
       "      <td>5.000000</td>\n",
       "    </tr>\n",
       "    <tr>\n",
       "      <th>74%</th>\n",
       "      <td>6.000000</td>\n",
       "    </tr>\n",
       "    <tr>\n",
       "      <th>75%</th>\n",
       "      <td>6.000000</td>\n",
       "    </tr>\n",
       "    <tr>\n",
       "      <th>76%</th>\n",
       "      <td>7.000000</td>\n",
       "    </tr>\n",
       "    <tr>\n",
       "      <th>78%</th>\n",
       "      <td>7.000000</td>\n",
       "    </tr>\n",
       "    <tr>\n",
       "      <th>79%</th>\n",
       "      <td>8.000000</td>\n",
       "    </tr>\n",
       "    <tr>\n",
       "      <th>max</th>\n",
       "      <td>478.000000</td>\n",
       "    </tr>\n",
       "  </tbody>\n",
       "</table>\n",
       "</div>"
      ],
      "text/plain": [
       "        unique_days\n",
       "count  19234.000000\n",
       "mean       6.088489\n",
       "std       12.341683\n",
       "min        1.000000\n",
       "50%        1.000000\n",
       "51%        2.000000\n",
       "60%        2.000000\n",
       "61%        3.000000\n",
       "66%        3.000000\n",
       "67%        4.000000\n",
       "70%        4.000000\n",
       "71%        5.000000\n",
       "73%        5.000000\n",
       "74%        6.000000\n",
       "75%        6.000000\n",
       "76%        7.000000\n",
       "78%        7.000000\n",
       "79%        8.000000\n",
       "max      478.000000"
      ]
     },
     "execution_count": 97,
     "metadata": {},
     "output_type": "execute_result"
    }
   ],
   "source": [
    "# 50% были на курсе один день и больше никогда не заходили.\n",
    "# 30% учились 5 уникальных дней и более.\n",
    "unique_days.describe(percentiles=[.51, .6, .61, .66, .67, .7, .71, .73, .74, .75, .76, .78, .79])"
   ]
  },
  {
   "cell_type": "markdown",
   "id": "501fac67",
   "metadata": {},
   "source": [
    "# Каких пользователей считаем прошедшими курс?"
   ]
  },
  {
   "cell_type": "code",
   "execution_count": 98,
   "id": "09041010",
   "metadata": {},
   "outputs": [],
   "source": [
    "# Чтобы получить сертификат, надо решить 170 задач.\n",
    "# Получил сертификат - значит прошел курс.\n",
    "passed_score = 170"
   ]
  },
  {
   "cell_type": "code",
   "execution_count": 99,
   "id": "3d73f160",
   "metadata": {},
   "outputs": [],
   "source": [
    "# Посмотрим количество пройденных практических шагов:\n",
    "users = user_events[['user_id', 'passed']]"
   ]
  },
  {
   "cell_type": "code",
   "execution_count": 100,
   "id": "6bf4d183",
   "metadata": {},
   "outputs": [],
   "source": [
    "# Добавим флаг, прошел ли пользователь курс:\n",
    "users['passed_course'] = users.passed >= passed_score\n",
    "users.passed_course = users.passed_course.map(int)"
   ]
  },
  {
   "cell_type": "code",
   "execution_count": 101,
   "id": "418dbed6",
   "metadata": {},
   "outputs": [],
   "source": [
    "# Узнаем время первого и последнего захода на курс:\n",
    "first_visits = events_data.groupby('user_id').timestamp.min().to_frame().rename(columns={'timestamp': 'first_visit'})\n",
    "last_visits = events_data.groupby('user_id').timestamp.max().to_frame().rename(columns={'timestamp': 'last_visit'})"
   ]
  },
  {
   "cell_type": "code",
   "execution_count": 102,
   "id": "0b303e4c",
   "metadata": {},
   "outputs": [],
   "source": [
    "# Добавим первый и последний заходы на курс:\n",
    "users = users.merge(first_visits, on='user_id')\n",
    "users = users.merge(last_visits, on='user_id')"
   ]
  },
  {
   "cell_type": "code",
   "execution_count": 103,
   "id": "c7d69540",
   "metadata": {},
   "outputs": [
    {
     "data": {
      "text/plain": [
       "0    17801\n",
       "1     1433\n",
       "Name: passed_course, dtype: int64"
      ]
     },
     "execution_count": 103,
     "metadata": {},
     "output_type": "execute_result"
    },
    {
     "data": {
      "image/png": "[encoded data removed]",
      "text/plain": [
       "<Figure size 648x432 with 1 Axes>"
      ]
     },
     "metadata": {},
     "output_type": "display_data"
    }
   ],
   "source": [
    "# Количественное соотношение прошедших и непрошедших курс:\n",
    "sns.countplot(x = 'passed_course', data = users, palette = 'hls').set(xlabel = 'Passed or not the course',\n",
    "                                                                     ylabel = 'Count of unique students',\n",
    "                                                                     title = 'Relations between passed and not-passed students')\n",
    "users.passed_course.value_counts()"
   ]
  },
  {
   "cell_type": "markdown",
   "id": "aee7ef9e",
   "metadata": {},
   "source": [
    "# Каких пользователей считаем ушедшими с курса?"
   ]
  },
  {
   "cell_type": "markdown",
   "id": "fffefcba",
   "metadata": {},
   "source": [
    "Надо понять, пользователи без сертификата еще учатся или уже бросили курс?\n",
    "\n",
    "Попробуем 2 подхода:\n",
    "\n",
    "1. Изучим длительность обучения пользователей, получивших сертификат. Возьмем максимальное количество дней или какой-нибудь 99 персентиль в качестве \"порога длительности обучения\". Если пользователь без сертификата учится дольше, чем порог - считаем что он бросил курс.\n",
    "2. Изучим перерывы в обучении у пользователей, получивших сертификат. Возьмем максимальный перерыв или какой-нибудь 99 персентиль в качестве \"порога длительности отсутствия\". Если от последнего событитя пользователя до сегодняшнего дня прошло больше времени, чем порог - считаем что он бросил курс."
   ]
  },
  {
   "cell_type": "markdown",
   "id": "bf48ed46",
   "metadata": {},
   "source": [
    "### 1 подход: Длительность обучения пользователей с сертификатом"
   ]
  },
  {
   "cell_type": "code",
   "execution_count": 104,
   "id": "7bb206a0",
   "metadata": {},
   "outputs": [],
   "source": [
    "# Отберем события пользователей, прошедших курс:\n",
    "events_of_passed_course_users = events_data[events_data['user_id'].isin(users[users['passed_course'] == True].user_id)]"
   ]
  },
  {
   "cell_type": "code",
   "execution_count": 105,
   "id": "b3f0d4ec",
   "metadata": {},
   "outputs": [],
   "source": [
    "# Узнаем время правильного решения 170-й задачи. Это и будет время окончания курса.\n",
    "# Для этого соберем датафрейм из первых 170-ти событий успешного решения практического шага:\n",
    "tmp = events_of_passed_course_users.query('action == \"passed\"') \\\n",
    "    .sort_values(['user_id', 'timestamp']) \\\n",
    "    .groupby('user_id') \\\n",
    "    .head(passed_score)"
   ]
  },
  {
   "cell_type": "code",
   "execution_count": 106,
   "id": "d7ca408d",
   "metadata": {},
   "outputs": [],
   "source": [
    "# Максимальный таймстемп каждого пользователя - это время получения сертификата:\n",
    "obtaining_certs = tmp.groupby('user_id').timestamp.max().to_frame() \\\n",
    "    .rename(columns={'timestamp': 'obtaining_cert'})"
   ]
  },
  {
   "cell_type": "code",
   "execution_count": 107,
   "id": "0e962c43",
   "metadata": {},
   "outputs": [],
   "source": [
    "# Создадим датафрейм, поместим туда прошедших курс пользователей:\n",
    "passed_course_users = users.query('passed_course == True')\n",
    "\n",
    "# Добавим время получения сертификата:\n",
    "passed_course_users = passed_course_users.merge(obtaining_certs, on='user_id')"
   ]
  },
  {
   "cell_type": "code",
   "execution_count": 108,
   "id": "775dc079",
   "metadata": {},
   "outputs": [],
   "source": [
    "passed_course_users['days_spent_on_obtaining_cert'] = \\\n",
    "    np.ceil(\n",
    "        (passed_course_users['obtaining_cert'] - passed_course_users['first_visit']) / (24 * 60 * 60)\n",
    "    ).map(int)"
   ]
  },
  {
   "cell_type": "code",
   "execution_count": 109,
   "id": "2bcb53b1",
   "metadata": {},
   "outputs": [
    {
     "data": {
      "text/plain": [
       "<AxesSubplot:>"
      ]
     },
     "execution_count": 109,
     "metadata": {},
     "output_type": "execute_result"
    },
    {
     "data": {
      "image/png": "[encoded data removed]",
      "text/plain": [
       "<Figure size 648x432 with 1 Axes>"
      ]
     },
     "metadata": {},
     "output_type": "display_data"
    }
   ],
   "source": [
    "# Ось x - количество дней, ось y - количество учеников:\n",
    "passed_course_users['days_spent_on_obtaining_cert'].hist()"
   ]
  },
  {
   "cell_type": "code",
   "execution_count": 110,
   "id": "0533cacd",
   "metadata": {},
   "outputs": [
    {
     "data": {
      "text/plain": [
       "<AxesSubplot:>"
      ]
     },
     "execution_count": 110,
     "metadata": {},
     "output_type": "execute_result"
    },
    {
     "data": {
      "image/png": "[encoded data removed]",
      "text/plain": [
       "<Figure size 648x432 with 1 Axes>"
      ]
     },
     "metadata": {},
     "output_type": "display_data"
    }
   ],
   "source": [
    "# Посмотрим подробнее первую сотню:\n",
    "passed_course_users.query('days_spent_on_obtaining_cert <= 100').days_spent_on_obtaining_cert.hist(bins=50)"
   ]
  },
  {
   "cell_type": "code",
   "execution_count": 111,
   "id": "8280ace2",
   "metadata": {},
   "outputs": [
    {
     "data": {
      "text/html": [
       "<div>\n",
       "<style scoped>\n",
       "    .dataframe tbody tr th:only-of-type {\n",
       "        vertical-align: middle;\n",
       "    }\n",
       "\n",
       "    .dataframe tbody tr th {\n",
       "        vertical-align: top;\n",
       "    }\n",
       "\n",
       "    .dataframe thead th {\n",
       "        text-align: right;\n",
       "    }\n",
       "</style>\n",
       "<table border=\"1\" class=\"dataframe\">\n",
       "  <thead>\n",
       "    <tr style=\"text-align: right;\">\n",
       "      <th></th>\n",
       "      <th>user_id</th>\n",
       "      <th>passed</th>\n",
       "      <th>passed_course</th>\n",
       "      <th>first_visit</th>\n",
       "      <th>last_visit</th>\n",
       "      <th>obtaining_cert</th>\n",
       "      <th>days_spent_on_obtaining_cert</th>\n",
       "    </tr>\n",
       "  </thead>\n",
       "  <tbody>\n",
       "    <tr>\n",
       "      <th>519</th>\n",
       "      <td>9104</td>\n",
       "      <td>195</td>\n",
       "      <td>1</td>\n",
       "      <td>1522098760</td>\n",
       "      <td>1522183769</td>\n",
       "      <td>1522111098</td>\n",
       "      <td>1</td>\n",
       "    </tr>\n",
       "    <tr>\n",
       "      <th>957</th>\n",
       "      <td>17191</td>\n",
       "      <td>190</td>\n",
       "      <td>1</td>\n",
       "      <td>1455013305</td>\n",
       "      <td>1458322391</td>\n",
       "      <td>1455024723</td>\n",
       "      <td>1</td>\n",
       "    </tr>\n",
       "    <tr>\n",
       "      <th>625</th>\n",
       "      <td>11061</td>\n",
       "      <td>196</td>\n",
       "      <td>1</td>\n",
       "      <td>1521015150</td>\n",
       "      <td>1523169005</td>\n",
       "      <td>1521017255</td>\n",
       "      <td>1</td>\n",
       "    </tr>\n",
       "    <tr>\n",
       "      <th>1138</th>\n",
       "      <td>21010</td>\n",
       "      <td>181</td>\n",
       "      <td>1</td>\n",
       "      <td>1482449434</td>\n",
       "      <td>1482475233</td>\n",
       "      <td>1482475149</td>\n",
       "      <td>1</td>\n",
       "    </tr>\n",
       "    <tr>\n",
       "      <th>564</th>\n",
       "      <td>9956</td>\n",
       "      <td>184</td>\n",
       "      <td>1</td>\n",
       "      <td>1463316278</td>\n",
       "      <td>1463380111</td>\n",
       "      <td>1463318306</td>\n",
       "      <td>1</td>\n",
       "    </tr>\n",
       "    <tr>\n",
       "      <th>1077</th>\n",
       "      <td>19805</td>\n",
       "      <td>198</td>\n",
       "      <td>1</td>\n",
       "      <td>1509741291</td>\n",
       "      <td>1512210943</td>\n",
       "      <td>1509744324</td>\n",
       "      <td>1</td>\n",
       "    </tr>\n",
       "    <tr>\n",
       "      <th>1220</th>\n",
       "      <td>22833</td>\n",
       "      <td>194</td>\n",
       "      <td>1</td>\n",
       "      <td>1464164406</td>\n",
       "      <td>1517842929</td>\n",
       "      <td>1464166049</td>\n",
       "      <td>1</td>\n",
       "    </tr>\n",
       "    <tr>\n",
       "      <th>651</th>\n",
       "      <td>11574</td>\n",
       "      <td>185</td>\n",
       "      <td>1</td>\n",
       "      <td>1478609068</td>\n",
       "      <td>1478629364</td>\n",
       "      <td>1478629003</td>\n",
       "      <td>1</td>\n",
       "    </tr>\n",
       "    <tr>\n",
       "      <th>248</th>\n",
       "      <td>4106</td>\n",
       "      <td>193</td>\n",
       "      <td>1</td>\n",
       "      <td>1458310371</td>\n",
       "      <td>1458484260</td>\n",
       "      <td>1458473308</td>\n",
       "      <td>2</td>\n",
       "    </tr>\n",
       "    <tr>\n",
       "      <th>1180</th>\n",
       "      <td>22059</td>\n",
       "      <td>197</td>\n",
       "      <td>1</td>\n",
       "      <td>1514928356</td>\n",
       "      <td>1515238451</td>\n",
       "      <td>1515182835</td>\n",
       "      <td>3</td>\n",
       "    </tr>\n",
       "  </tbody>\n",
       "</table>\n",
       "</div>"
      ],
      "text/plain": [
       "      user_id  passed  passed_course  first_visit  last_visit  obtaining_cert  \\\n",
       "519      9104     195              1   1522098760  1522183769      1522111098   \n",
       "957     17191     190              1   1455013305  1458322391      1455024723   \n",
       "625     11061     196              1   1521015150  1523169005      1521017255   \n",
       "1138    21010     181              1   1482449434  1482475233      1482475149   \n",
       "564      9956     184              1   1463316278  1463380111      1463318306   \n",
       "1077    19805     198              1   1509741291  1512210943      1509744324   \n",
       "1220    22833     194              1   1464164406  1517842929      1464166049   \n",
       "651     11574     185              1   1478609068  1478629364      1478629003   \n",
       "248      4106     193              1   1458310371  1458484260      1458473308   \n",
       "1180    22059     197              1   1514928356  1515238451      1515182835   \n",
       "\n",
       "      days_spent_on_obtaining_cert  \n",
       "519                              1  \n",
       "957                              1  \n",
       "625                              1  \n",
       "1138                             1  \n",
       "564                              1  \n",
       "1077                             1  \n",
       "1220                             1  \n",
       "651                              1  \n",
       "248                              2  \n",
       "1180                             3  "
      ]
     },
     "execution_count": 111,
     "metadata": {},
     "output_type": "execute_result"
    }
   ],
   "source": [
    "# Наблюдаем очень быстрое прохождение курса у 8-ми пользователей.\n",
    "# Если не переводить значение в целые дни, то там будет от 30 до 45 мин у первых 8-ми пользователей.\n",
    "# Может команда курса тестировала?\n",
    "passed_course_users.sort_values('days_spent_on_obtaining_cert').head(10)"
   ]
  },
  {
   "cell_type": "code",
   "execution_count": 112,
   "id": "3f582041",
   "metadata": {},
   "outputs": [
    {
     "data": {
      "text/plain": [
       "count    1433.000000\n",
       "mean       92.387299\n",
       "std       152.200695\n",
       "min         1.000000\n",
       "50%        31.000000\n",
       "90%       283.800000\n",
       "95%       434.000000\n",
       "99%       747.440000\n",
       "max      1056.000000\n",
       "Name: days_spent_on_obtaining_cert, dtype: float64"
      ]
     },
     "execution_count": 112,
     "metadata": {},
     "output_type": "execute_result"
    }
   ],
   "source": [
    "passed_course_users['days_spent_on_obtaining_cert'].describe(percentiles=[.9, .95, .99])\n",
    "\n",
    "# Сколько дней обучения брать в качестве порога?\n",
    "\n",
    "# Например, считаем, что пользователь бросил курс, если он не получил сертификат и уже учится более 434 дней (95 персентиль).\n",
    "\n",
    "# Пользователи, которые не имеют сертификат и учатся меньше 434 дней, будут в неопределенном статусе.\n",
    "\n",
    "# Посмотрим, сколько таких пользователей будет при взятии различных порогов."
   ]
  },
  {
   "cell_type": "code",
   "execution_count": 113,
   "id": "2a2d2ccd",
   "metadata": {},
   "outputs": [],
   "source": [
    "# Пользователи без сертификатов:\n",
    "not_passed_course_users = users.query('passed_course == False')"
   ]
  },
  {
   "cell_type": "code",
   "execution_count": 114,
   "id": "236900e3",
   "metadata": {},
   "outputs": [
    {
     "data": {
      "text/plain": [
       "2            3\n",
       "8           14\n",
       "11          18\n",
       "12          20\n",
       "17          28\n",
       "         ...  \n",
       "19219    26778\n",
       "19223    26783\n",
       "19225    26786\n",
       "19228    26789\n",
       "19229    26790\n",
       "Name: user_id, Length: 6384, dtype: int64"
      ]
     },
     "execution_count": 114,
     "metadata": {},
     "output_type": "execute_result"
    }
   ],
   "source": [
    "# Найдем среди участников без сертификата пользователей, которые учатся более 747 дней (99 квантиль).\n",
    "training_length_threshold = 747 * 24 * 60 * 60\n",
    "now = events_data.timestamp.max()\n",
    "\n",
    "not_passed_course_users.query('first_visit + @training_length_threshold < @now').user_id\n",
    "# следующих товарищей считаем бросившими курс"
   ]
  },
  {
   "cell_type": "code",
   "execution_count": 115,
   "id": "50b4f373",
   "metadata": {},
   "outputs": [],
   "source": [
    "lost_1_way = users[users.user_id.isin(not_passed_course_users.query('first_visit + @training_length_threshold < @now').user_id)]\n",
    "# потерявшиеся после 1 подходу"
   ]
  },
  {
   "cell_type": "markdown",
   "id": "1f0c1133",
   "metadata": {},
   "source": [
    "### 2 подход: Перерывы в обучении у получивших сертификат"
   ]
  },
  {
   "cell_type": "code",
   "execution_count": 116,
   "id": "d0011995",
   "metadata": {},
   "outputs": [],
   "source": [
    "# Добавим время получения сертификата к событиям пользователей получивших сертификат:\n",
    "events_of_passed_course_users = events_of_passed_course_users \\\n",
    "    .merge(passed_course_users[['user_id', 'obtaining_cert']], on='user_id')"
   ]
  },
  {
   "cell_type": "code",
   "execution_count": 117,
   "id": "a2496212",
   "metadata": {},
   "outputs": [],
   "source": [
    "max_breaks_of_passed_course_users  = events_of_passed_course_users \\\n",
    "    .query('timestamp <= obtaining_cert')[['user_id', 'timestamp']] \\\n",
    "    .groupby('user_id')['timestamp'] \\\n",
    "    .apply(list) \\\n",
    "    .apply(np.diff) \\\n",
    "    .apply(np.max) \\\n",
    "    .to_frame().rename(columns={'timestamp': 'max_break'})"
   ]
  },
  {
   "cell_type": "code",
   "execution_count": 118,
   "id": "5df98e09",
   "metadata": {},
   "outputs": [],
   "source": [
    "# Переведем секунды в дни:\n",
    "max_breaks_of_passed_course_users['max_break'] = \\\n",
    "    np.ceil(\n",
    "        max_breaks_of_passed_course_users['max_break'] / (24 * 60 * 60)\n",
    "    ).map(int)"
   ]
  },
  {
   "cell_type": "code",
   "execution_count": 119,
   "id": "45509723",
   "metadata": {},
   "outputs": [
    {
     "data": {
      "text/html": [
       "<div>\n",
       "<style scoped>\n",
       "    .dataframe tbody tr th:only-of-type {\n",
       "        vertical-align: middle;\n",
       "    }\n",
       "\n",
       "    .dataframe tbody tr th {\n",
       "        vertical-align: top;\n",
       "    }\n",
       "\n",
       "    .dataframe thead th {\n",
       "        text-align: right;\n",
       "    }\n",
       "</style>\n",
       "<table border=\"1\" class=\"dataframe\">\n",
       "  <thead>\n",
       "    <tr style=\"text-align: right;\">\n",
       "      <th></th>\n",
       "      <th>user_id</th>\n",
       "      <th>passed</th>\n",
       "      <th>passed_course</th>\n",
       "      <th>first_visit</th>\n",
       "      <th>last_visit</th>\n",
       "      <th>obtaining_cert</th>\n",
       "      <th>days_spent_on_obtaining_cert</th>\n",
       "      <th>max_break</th>\n",
       "    </tr>\n",
       "  </thead>\n",
       "  <tbody>\n",
       "    <tr>\n",
       "      <th>0</th>\n",
       "      <td>16</td>\n",
       "      <td>196</td>\n",
       "      <td>1</td>\n",
       "      <td>1435674765</td>\n",
       "      <td>1513162585</td>\n",
       "      <td>1513094298</td>\n",
       "      <td>897</td>\n",
       "      <td>708</td>\n",
       "    </tr>\n",
       "    <tr>\n",
       "      <th>1</th>\n",
       "      <td>22</td>\n",
       "      <td>198</td>\n",
       "      <td>1</td>\n",
       "      <td>1498561010</td>\n",
       "      <td>1507142631</td>\n",
       "      <td>1500036463</td>\n",
       "      <td>18</td>\n",
       "      <td>4</td>\n",
       "    </tr>\n",
       "    <tr>\n",
       "      <th>2</th>\n",
       "      <td>30</td>\n",
       "      <td>198</td>\n",
       "      <td>1</td>\n",
       "      <td>1467307716</td>\n",
       "      <td>1510574287</td>\n",
       "      <td>1509095682</td>\n",
       "      <td>484</td>\n",
       "      <td>146</td>\n",
       "    </tr>\n",
       "    <tr>\n",
       "      <th>3</th>\n",
       "      <td>34</td>\n",
       "      <td>195</td>\n",
       "      <td>1</td>\n",
       "      <td>1493156230</td>\n",
       "      <td>1525626844</td>\n",
       "      <td>1504794582</td>\n",
       "      <td>135</td>\n",
       "      <td>58</td>\n",
       "    </tr>\n",
       "    <tr>\n",
       "      <th>4</th>\n",
       "      <td>39</td>\n",
       "      <td>198</td>\n",
       "      <td>1</td>\n",
       "      <td>1456943480</td>\n",
       "      <td>1502712399</td>\n",
       "      <td>1459445025</td>\n",
       "      <td>29</td>\n",
       "      <td>4</td>\n",
       "    </tr>\n",
       "    <tr>\n",
       "      <th>...</th>\n",
       "      <td>...</td>\n",
       "      <td>...</td>\n",
       "      <td>...</td>\n",
       "      <td>...</td>\n",
       "      <td>...</td>\n",
       "      <td>...</td>\n",
       "      <td>...</td>\n",
       "      <td>...</td>\n",
       "    </tr>\n",
       "    <tr>\n",
       "      <th>1428</th>\n",
       "      <td>26740</td>\n",
       "      <td>188</td>\n",
       "      <td>1</td>\n",
       "      <td>1444388456</td>\n",
       "      <td>1463224362</td>\n",
       "      <td>1456347416</td>\n",
       "      <td>139</td>\n",
       "      <td>95</td>\n",
       "    </tr>\n",
       "    <tr>\n",
       "      <th>1429</th>\n",
       "      <td>26763</td>\n",
       "      <td>193</td>\n",
       "      <td>1</td>\n",
       "      <td>1434350514</td>\n",
       "      <td>1436216740</td>\n",
       "      <td>1436205266</td>\n",
       "      <td>22</td>\n",
       "      <td>5</td>\n",
       "    </tr>\n",
       "    <tr>\n",
       "      <th>1430</th>\n",
       "      <td>26777</td>\n",
       "      <td>191</td>\n",
       "      <td>1</td>\n",
       "      <td>1434374498</td>\n",
       "      <td>1436605200</td>\n",
       "      <td>1436462092</td>\n",
       "      <td>25</td>\n",
       "      <td>7</td>\n",
       "    </tr>\n",
       "    <tr>\n",
       "      <th>1431</th>\n",
       "      <td>26779</td>\n",
       "      <td>196</td>\n",
       "      <td>1</td>\n",
       "      <td>1473155734</td>\n",
       "      <td>1520157100</td>\n",
       "      <td>1476952592</td>\n",
       "      <td>44</td>\n",
       "      <td>8</td>\n",
       "    </tr>\n",
       "    <tr>\n",
       "      <th>1432</th>\n",
       "      <td>26781</td>\n",
       "      <td>198</td>\n",
       "      <td>1</td>\n",
       "      <td>1487693786</td>\n",
       "      <td>1507540704</td>\n",
       "      <td>1492087237</td>\n",
       "      <td>51</td>\n",
       "      <td>20</td>\n",
       "    </tr>\n",
       "  </tbody>\n",
       "</table>\n",
       "<p>1433 rows × 8 columns</p>\n",
       "</div>"
      ],
      "text/plain": [
       "      user_id  passed  passed_course  first_visit  last_visit  obtaining_cert  \\\n",
       "0          16     196              1   1435674765  1513162585      1513094298   \n",
       "1          22     198              1   1498561010  1507142631      1500036463   \n",
       "2          30     198              1   1467307716  1510574287      1509095682   \n",
       "3          34     195              1   1493156230  1525626844      1504794582   \n",
       "4          39     198              1   1456943480  1502712399      1459445025   \n",
       "...       ...     ...            ...          ...         ...             ...   \n",
       "1428    26740     188              1   1444388456  1463224362      1456347416   \n",
       "1429    26763     193              1   1434350514  1436216740      1436205266   \n",
       "1430    26777     191              1   1434374498  1436605200      1436462092   \n",
       "1431    26779     196              1   1473155734  1520157100      1476952592   \n",
       "1432    26781     198              1   1487693786  1507540704      1492087237   \n",
       "\n",
       "      days_spent_on_obtaining_cert  max_break  \n",
       "0                              897        708  \n",
       "1                               18          4  \n",
       "2                              484        146  \n",
       "3                              135         58  \n",
       "4                               29          4  \n",
       "...                            ...        ...  \n",
       "1428                           139         95  \n",
       "1429                            22          5  \n",
       "1430                            25          7  \n",
       "1431                            44          8  \n",
       "1432                            51         20  \n",
       "\n",
       "[1433 rows x 8 columns]"
      ]
     },
     "execution_count": 119,
     "metadata": {},
     "output_type": "execute_result"
    }
   ],
   "source": [
    "# Добавим максимальный перерыв между событиями к пользователям, получившим сетрификат:\n",
    "passed_course_users = passed_course_users.merge(max_breaks_of_passed_course_users, on='user_id')\n",
    "passed_course_users"
   ]
  },
  {
   "cell_type": "code",
   "execution_count": 120,
   "id": "1eae832b",
   "metadata": {},
   "outputs": [
    {
     "data": {
      "text/plain": [
       "[Text(0.5, 0, 'Max days of a break'),\n",
       " Text(0, 0.5, 'Count of users'),\n",
       " Text(0.5, 1.0, \"Distribution of max days of users' break\")]"
      ]
     },
     "execution_count": 120,
     "metadata": {},
     "output_type": "execute_result"
    },
    {
     "data": {
      "image/png": "[encoded data removed]",
      "text/plain": [
       "<Figure size 648x432 with 1 Axes>"
      ]
     },
     "metadata": {},
     "output_type": "display_data"
    }
   ],
   "source": [
    "passed_course_users['max_break'].hist() \\\n",
    "    .set(xlabel = 'Max days of a break',\n",
    "        ylabel = 'Count of users',\n",
    "        title = 'Distribution of max days of users' + \"'\" + ' break')"
   ]
  },
  {
   "cell_type": "code",
   "execution_count": 121,
   "id": "9dbb4c88",
   "metadata": {},
   "outputs": [
    {
     "data": {
      "text/plain": [
       "count    1433.000000\n",
       "mean       48.413119\n",
       "std       107.147067\n",
       "min         1.000000\n",
       "50%         8.000000\n",
       "90%       144.000000\n",
       "95%       274.600000\n",
       "99%       536.680000\n",
       "max       947.000000\n",
       "Name: max_break, dtype: float64"
      ]
     },
     "execution_count": 121,
     "metadata": {},
     "output_type": "execute_result"
    }
   ],
   "source": [
    "passed_course_users['max_break'].describe(percentiles=[.9, .95, .99])\n",
    "\n",
    "# Какой максимальный перерыв брать в качестве порога?\n",
    "# Посмотрим, сколько пользователей мы \"потеряем\" при взятии различных порогов."
   ]
  },
  {
   "cell_type": "code",
   "execution_count": 122,
   "id": "0aeac997",
   "metadata": {},
   "outputs": [],
   "source": [
    "# Отберем события пользователей без сертификата:\n",
    "events_of_not_passed_course_users = events_data[events_data['user_id'].isin(users.query('passed_course == False').user_id)]"
   ]
  },
  {
   "cell_type": "code",
   "execution_count": 123,
   "id": "e556a748",
   "metadata": {},
   "outputs": [],
   "source": [
    "# Получим максимальный перерыв между событиями для каждого пользователя без сертификата.\n",
    "# Время от последнего события пользователя до \"сегодняшнего\" момента тоже надо учесть.\n",
    "max_breaks_of_not_passed_course_users = events_of_not_passed_course_users[['user_id', 'timestamp']] \\\n",
    "    .groupby('user_id')['timestamp'] \\\n",
    "    .apply(list) \\\n",
    "    .apply(lambda x: x + [now]) \\\n",
    "    .apply(np.diff) \\\n",
    "    .apply(np.max) \\\n",
    "    .to_frame().rename(columns={'timestamp': 'max_break'})"
   ]
  },
  {
   "cell_type": "code",
   "execution_count": 124,
   "id": "15cd09a9",
   "metadata": {},
   "outputs": [],
   "source": [
    "# Переведем секунды в дни:\n",
    "max_breaks_of_not_passed_course_users['max_break'] = \\\n",
    "    np.ceil(\n",
    "        max_breaks_of_not_passed_course_users['max_break'] / (24 * 60 * 60)\n",
    "    ).map(int)"
   ]
  },
  {
   "cell_type": "code",
   "execution_count": 125,
   "id": "95058ca8",
   "metadata": {},
   "outputs": [],
   "source": [
    "# Добавим максимальный перерыв к пользователям без сертификата:\n",
    "not_passed_course_users = not_passed_course_users.merge(max_breaks_of_not_passed_course_users, on='user_id')"
   ]
  },
  {
   "cell_type": "code",
   "execution_count": 126,
   "id": "14919273",
   "metadata": {},
   "outputs": [
    {
     "data": {
      "text/html": [
       "<div>\n",
       "<style scoped>\n",
       "    .dataframe tbody tr th:only-of-type {\n",
       "        vertical-align: middle;\n",
       "    }\n",
       "\n",
       "    .dataframe tbody tr th {\n",
       "        vertical-align: top;\n",
       "    }\n",
       "\n",
       "    .dataframe thead th {\n",
       "        text-align: right;\n",
       "    }\n",
       "</style>\n",
       "<table border=\"1\" class=\"dataframe\">\n",
       "  <thead>\n",
       "    <tr style=\"text-align: right;\">\n",
       "      <th></th>\n",
       "      <th>user_id</th>\n",
       "      <th>passed</th>\n",
       "      <th>passed_course</th>\n",
       "      <th>first_visit</th>\n",
       "      <th>last_visit</th>\n",
       "      <th>max_break</th>\n",
       "    </tr>\n",
       "  </thead>\n",
       "  <tbody>\n",
       "    <tr>\n",
       "      <th>0</th>\n",
       "      <td>1</td>\n",
       "      <td>0</td>\n",
       "      <td>0</td>\n",
       "      <td>1472827464</td>\n",
       "      <td>1472827464</td>\n",
       "      <td>625</td>\n",
       "    </tr>\n",
       "    <tr>\n",
       "      <th>2</th>\n",
       "      <td>3</td>\n",
       "      <td>87</td>\n",
       "      <td>0</td>\n",
       "      <td>1434358476</td>\n",
       "      <td>1444581588</td>\n",
       "      <td>952</td>\n",
       "    </tr>\n",
       "    <tr>\n",
       "      <th>8</th>\n",
       "      <td>14</td>\n",
       "      <td>3</td>\n",
       "      <td>0</td>\n",
       "      <td>1436366155</td>\n",
       "      <td>1436368676</td>\n",
       "      <td>1047</td>\n",
       "    </tr>\n",
       "    <tr>\n",
       "      <th>9</th>\n",
       "      <td>17</td>\n",
       "      <td>5</td>\n",
       "      <td>0</td>\n",
       "      <td>1465762612</td>\n",
       "      <td>1465765342</td>\n",
       "      <td>707</td>\n",
       "    </tr>\n",
       "    <tr>\n",
       "      <th>10</th>\n",
       "      <td>18</td>\n",
       "      <td>2</td>\n",
       "      <td>0</td>\n",
       "      <td>1438541140</td>\n",
       "      <td>1438541223</td>\n",
       "      <td>1022</td>\n",
       "    </tr>\n",
       "    <tr>\n",
       "      <th>...</th>\n",
       "      <td>...</td>\n",
       "      <td>...</td>\n",
       "      <td>...</td>\n",
       "      <td>...</td>\n",
       "      <td>...</td>\n",
       "      <td>...</td>\n",
       "    </tr>\n",
       "    <tr>\n",
       "      <th>17787</th>\n",
       "      <td>26776</td>\n",
       "      <td>16</td>\n",
       "      <td>0</td>\n",
       "      <td>1445007199</td>\n",
       "      <td>1445010128</td>\n",
       "      <td>947</td>\n",
       "    </tr>\n",
       "    <tr>\n",
       "      <th>17788</th>\n",
       "      <td>26778</td>\n",
       "      <td>9</td>\n",
       "      <td>0</td>\n",
       "      <td>1436470218</td>\n",
       "      <td>1474007319</td>\n",
       "      <td>611</td>\n",
       "    </tr>\n",
       "    <tr>\n",
       "      <th>17790</th>\n",
       "      <td>26783</td>\n",
       "      <td>10</td>\n",
       "      <td>0</td>\n",
       "      <td>1434542952</td>\n",
       "      <td>1434543274</td>\n",
       "      <td>1068</td>\n",
       "    </tr>\n",
       "    <tr>\n",
       "      <th>17795</th>\n",
       "      <td>26789</td>\n",
       "      <td>2</td>\n",
       "      <td>0</td>\n",
       "      <td>1447263411</td>\n",
       "      <td>1447263419</td>\n",
       "      <td>921</td>\n",
       "    </tr>\n",
       "    <tr>\n",
       "      <th>17796</th>\n",
       "      <td>26790</td>\n",
       "      <td>8</td>\n",
       "      <td>0</td>\n",
       "      <td>1451484016</td>\n",
       "      <td>1517495987</td>\n",
       "      <td>751</td>\n",
       "    </tr>\n",
       "  </tbody>\n",
       "</table>\n",
       "<p>8328 rows × 6 columns</p>\n",
       "</div>"
      ],
      "text/plain": [
       "       user_id  passed  passed_course  first_visit  last_visit  max_break\n",
       "0            1       0              0   1472827464  1472827464        625\n",
       "2            3      87              0   1434358476  1444581588        952\n",
       "8           14       3              0   1436366155  1436368676       1047\n",
       "9           17       5              0   1465762612  1465765342        707\n",
       "10          18       2              0   1438541140  1438541223       1022\n",
       "...        ...     ...            ...          ...         ...        ...\n",
       "17787    26776      16              0   1445007199  1445010128        947\n",
       "17788    26778       9              0   1436470218  1474007319        611\n",
       "17790    26783      10              0   1434542952  1434543274       1068\n",
       "17795    26789       2              0   1447263411  1447263419        921\n",
       "17796    26790       8              0   1451484016  1517495987        751\n",
       "\n",
       "[8328 rows x 6 columns]"
      ]
     },
     "execution_count": 126,
     "metadata": {},
     "output_type": "execute_result"
    }
   ],
   "source": [
    "breaks_in_training_threshold = 536\n",
    "\n",
    "not_passed_course_users.query('max_break > @breaks_in_training_threshold')\n",
    "# следующих товарищей считаем бросившими курс"
   ]
  },
  {
   "cell_type": "code",
   "execution_count": 127,
   "id": "e08d388c",
   "metadata": {},
   "outputs": [],
   "source": [
    "lost_2_way = users[users.user_id.isin(not_passed_course_users.query('max_break > @breaks_in_training_threshold').user_id)]\n",
    "# потерявшиеся после 2 подхода"
   ]
  },
  {
   "cell_type": "code",
   "execution_count": 128,
   "id": "f7089da0",
   "metadata": {},
   "outputs": [
    {
     "name": "stdout",
     "output_type": "stream",
     "text": [
      "Число потерявшихся по 1 подходу равно 6384\n",
      "Число потерявшихся по 2 подходу равно 8328\n"
     ]
    }
   ],
   "source": [
    "print(f'Число потерявшихся по 1 подходу равно {lost_1_way.shape[0]}')\n",
    "print(f'Число потерявшихся по 2 подходу равно {lost_2_way.shape[0]}')"
   ]
  },
  {
   "cell_type": "code",
   "execution_count": 129,
   "id": "55d30cad",
   "metadata": {
    "scrolled": false
   },
   "outputs": [
    {
     "data": {
      "text/plain": [
       "0    9473\n",
       "1    1433\n",
       "Name: passed_course, dtype: int64"
      ]
     },
     "execution_count": 129,
     "metadata": {},
     "output_type": "execute_result"
    },
    {
     "data": {
      "image/png": "[encoded data removed]",
      "text/plain": [
       "<Figure size 648x432 with 1 Axes>"
      ]
     },
     "metadata": {},
     "output_type": "display_data"
    }
   ],
   "source": [
    "sns.countplot(x = 'passed_course', data = users[users.user_id.isin(lost_2_way.user_id) == False], palette = 'hls') \\\n",
    "    .set(xlabel = 'Passed or not the course',\n",
    "         ylabel = 'Count of unique students',\n",
    "         title = 'Relations between passed and not-passed students')\n",
    "users[users.user_id.isin(lost_2_way.user_id) == False].passed_course.value_counts()"
   ]
  },
  {
   "cell_type": "code",
   "execution_count": 130,
   "id": "c2fd196f",
   "metadata": {},
   "outputs": [
    {
     "data": {
      "text/html": [
       "<div>\n",
       "<style scoped>\n",
       "    .dataframe tbody tr th:only-of-type {\n",
       "        vertical-align: middle;\n",
       "    }\n",
       "\n",
       "    .dataframe tbody tr th {\n",
       "        vertical-align: top;\n",
       "    }\n",
       "\n",
       "    .dataframe thead th {\n",
       "        text-align: right;\n",
       "    }\n",
       "</style>\n",
       "<table border=\"1\" class=\"dataframe\">\n",
       "  <thead>\n",
       "    <tr style=\"text-align: right;\">\n",
       "      <th></th>\n",
       "      <th>user_id</th>\n",
       "      <th>passed</th>\n",
       "      <th>passed_course</th>\n",
       "      <th>first_visit</th>\n",
       "      <th>last_visit</th>\n",
       "      <th>max_break</th>\n",
       "      <th>is_gone</th>\n",
       "    </tr>\n",
       "  </thead>\n",
       "  <tbody>\n",
       "    <tr>\n",
       "      <th>0</th>\n",
       "      <td>1</td>\n",
       "      <td>0</td>\n",
       "      <td>0</td>\n",
       "      <td>1472827464</td>\n",
       "      <td>1472827464</td>\n",
       "      <td>625</td>\n",
       "      <td>1</td>\n",
       "    </tr>\n",
       "    <tr>\n",
       "      <th>1</th>\n",
       "      <td>2</td>\n",
       "      <td>9</td>\n",
       "      <td>0</td>\n",
       "      <td>1514383364</td>\n",
       "      <td>1519226966</td>\n",
       "      <td>88</td>\n",
       "      <td>0</td>\n",
       "    </tr>\n",
       "    <tr>\n",
       "      <th>2</th>\n",
       "      <td>3</td>\n",
       "      <td>87</td>\n",
       "      <td>0</td>\n",
       "      <td>1434358476</td>\n",
       "      <td>1444581588</td>\n",
       "      <td>952</td>\n",
       "      <td>1</td>\n",
       "    </tr>\n",
       "    <tr>\n",
       "      <th>3</th>\n",
       "      <td>5</td>\n",
       "      <td>11</td>\n",
       "      <td>0</td>\n",
       "      <td>1466156809</td>\n",
       "      <td>1499859939</td>\n",
       "      <td>391</td>\n",
       "      <td>0</td>\n",
       "    </tr>\n",
       "    <tr>\n",
       "      <th>4</th>\n",
       "      <td>7</td>\n",
       "      <td>1</td>\n",
       "      <td>0</td>\n",
       "      <td>1521634660</td>\n",
       "      <td>1521634660</td>\n",
       "      <td>60</td>\n",
       "      <td>0</td>\n",
       "    </tr>\n",
       "    <tr>\n",
       "      <th>...</th>\n",
       "      <td>...</td>\n",
       "      <td>...</td>\n",
       "      <td>...</td>\n",
       "      <td>...</td>\n",
       "      <td>...</td>\n",
       "      <td>...</td>\n",
       "      <td>...</td>\n",
       "    </tr>\n",
       "    <tr>\n",
       "      <th>19229</th>\n",
       "      <td>26790</td>\n",
       "      <td>8</td>\n",
       "      <td>0</td>\n",
       "      <td>1451484016</td>\n",
       "      <td>1517495987</td>\n",
       "      <td>751</td>\n",
       "      <td>1</td>\n",
       "    </tr>\n",
       "    <tr>\n",
       "      <th>19230</th>\n",
       "      <td>26793</td>\n",
       "      <td>0</td>\n",
       "      <td>0</td>\n",
       "      <td>1510225031</td>\n",
       "      <td>1510225034</td>\n",
       "      <td>192</td>\n",
       "      <td>0</td>\n",
       "    </tr>\n",
       "    <tr>\n",
       "      <th>19231</th>\n",
       "      <td>26794</td>\n",
       "      <td>69</td>\n",
       "      <td>0</td>\n",
       "      <td>1495287049</td>\n",
       "      <td>1512035039</td>\n",
       "      <td>171</td>\n",
       "      <td>0</td>\n",
       "    </tr>\n",
       "    <tr>\n",
       "      <th>19232</th>\n",
       "      <td>26797</td>\n",
       "      <td>10</td>\n",
       "      <td>0</td>\n",
       "      <td>1508425316</td>\n",
       "      <td>1509995096</td>\n",
       "      <td>195</td>\n",
       "      <td>0</td>\n",
       "    </tr>\n",
       "    <tr>\n",
       "      <th>19233</th>\n",
       "      <td>26798</td>\n",
       "      <td>12</td>\n",
       "      <td>0</td>\n",
       "      <td>1520975763</td>\n",
       "      <td>1520978742</td>\n",
       "      <td>68</td>\n",
       "      <td>0</td>\n",
       "    </tr>\n",
       "  </tbody>\n",
       "</table>\n",
       "<p>19234 rows × 7 columns</p>\n",
       "</div>"
      ],
      "text/plain": [
       "       user_id  passed  passed_course  first_visit  last_visit  max_break  \\\n",
       "0            1       0              0   1472827464  1472827464        625   \n",
       "1            2       9              0   1514383364  1519226966         88   \n",
       "2            3      87              0   1434358476  1444581588        952   \n",
       "3            5      11              0   1466156809  1499859939        391   \n",
       "4            7       1              0   1521634660  1521634660         60   \n",
       "...        ...     ...            ...          ...         ...        ...   \n",
       "19229    26790       8              0   1451484016  1517495987        751   \n",
       "19230    26793       0              0   1510225031  1510225034        192   \n",
       "19231    26794      69              0   1495287049  1512035039        171   \n",
       "19232    26797      10              0   1508425316  1509995096        195   \n",
       "19233    26798      12              0   1520975763  1520978742         68   \n",
       "\n",
       "       is_gone  \n",
       "0            1  \n",
       "1            0  \n",
       "2            1  \n",
       "3            0  \n",
       "4            0  \n",
       "...        ...  \n",
       "19229        1  \n",
       "19230        0  \n",
       "19231        0  \n",
       "19232        0  \n",
       "19233        0  \n",
       "\n",
       "[19234 rows x 7 columns]"
      ]
     },
     "execution_count": 130,
     "metadata": {},
     "output_type": "execute_result"
    }
   ],
   "source": [
    "# Я пойду по 2 способу и приму эвристику, что пользователи, имеющие перерыв более 536 дней (99% перцентиль времени перерыва\n",
    "# пользователей, прошедших курс), являются покинувшими курс\n",
    "users = users.merge(\n",
    "    pd.concat([max_breaks_of_passed_course_users, max_breaks_of_not_passed_course_users]),\n",
    "    on='user_id'\n",
    ")\n",
    "\n",
    "users['is_gone'] = 0\n",
    "users.loc[(users['passed_course'] == 0) & (users['max_break'] > breaks_in_training_threshold), 'is_gone'] = 1\n",
    "users"
   ]
  },
  {
   "cell_type": "code",
   "execution_count": 131,
   "id": "9c39549c",
   "metadata": {},
   "outputs": [],
   "source": [
    "# Небольшая ремарка в честь задания по данному проекту\n",
    "# Был выдвинут интересный вопрос, найти номер стэпа, после которого большее число пользователей покинуло курс - проблемный урок\n",
    "# Я предлагаю следующее решение: попросту отфильтроваться по неправельным стэпам и найти id стэпа, где было больше всего ошибок\n",
    "\n",
    "# submissions_train.query(\"submission_status == 'wrong'\").groupby(['user_id', 'step_id']).agg({'submission_status': 'count'}) \\\n",
    "#     .reset_index('step_id').value_counts('step_id')"
   ]
  },
  {
   "cell_type": "code",
   "execution_count": 132,
   "id": "ae6ff01a",
   "metadata": {},
   "outputs": [
    {
     "data": {
      "text/html": [
       "<div>\n",
       "<style scoped>\n",
       "    .dataframe tbody tr th:only-of-type {\n",
       "        vertical-align: middle;\n",
       "    }\n",
       "\n",
       "    .dataframe tbody tr th {\n",
       "        vertical-align: top;\n",
       "    }\n",
       "\n",
       "    .dataframe thead th {\n",
       "        text-align: right;\n",
       "    }\n",
       "</style>\n",
       "<table border=\"1\" class=\"dataframe\">\n",
       "  <thead>\n",
       "    <tr style=\"text-align: right;\">\n",
       "      <th></th>\n",
       "      <th>user_id</th>\n",
       "      <th>passed</th>\n",
       "      <th>first_visit</th>\n",
       "      <th>last_visit</th>\n",
       "      <th>max_break</th>\n",
       "      <th>is_gone</th>\n",
       "    </tr>\n",
       "  </thead>\n",
       "  <tbody>\n",
       "    <tr>\n",
       "      <th>0</th>\n",
       "      <td>1</td>\n",
       "      <td>0</td>\n",
       "      <td>1472827464</td>\n",
       "      <td>1472827464</td>\n",
       "      <td>625</td>\n",
       "      <td>1</td>\n",
       "    </tr>\n",
       "    <tr>\n",
       "      <th>2</th>\n",
       "      <td>3</td>\n",
       "      <td>87</td>\n",
       "      <td>1434358476</td>\n",
       "      <td>1444581588</td>\n",
       "      <td>952</td>\n",
       "      <td>1</td>\n",
       "    </tr>\n",
       "    <tr>\n",
       "      <th>8</th>\n",
       "      <td>14</td>\n",
       "      <td>3</td>\n",
       "      <td>1436366155</td>\n",
       "      <td>1436368676</td>\n",
       "      <td>1047</td>\n",
       "      <td>1</td>\n",
       "    </tr>\n",
       "    <tr>\n",
       "      <th>9</th>\n",
       "      <td>16</td>\n",
       "      <td>196</td>\n",
       "      <td>1435674765</td>\n",
       "      <td>1513162585</td>\n",
       "      <td>708</td>\n",
       "      <td>0</td>\n",
       "    </tr>\n",
       "    <tr>\n",
       "      <th>10</th>\n",
       "      <td>17</td>\n",
       "      <td>5</td>\n",
       "      <td>1465762612</td>\n",
       "      <td>1465765342</td>\n",
       "      <td>707</td>\n",
       "      <td>1</td>\n",
       "    </tr>\n",
       "    <tr>\n",
       "      <th>...</th>\n",
       "      <td>...</td>\n",
       "      <td>...</td>\n",
       "      <td>...</td>\n",
       "      <td>...</td>\n",
       "      <td>...</td>\n",
       "      <td>...</td>\n",
       "    </tr>\n",
       "    <tr>\n",
       "      <th>19220</th>\n",
       "      <td>26779</td>\n",
       "      <td>196</td>\n",
       "      <td>1473155734</td>\n",
       "      <td>1520157100</td>\n",
       "      <td>8</td>\n",
       "      <td>0</td>\n",
       "    </tr>\n",
       "    <tr>\n",
       "      <th>19221</th>\n",
       "      <td>26781</td>\n",
       "      <td>198</td>\n",
       "      <td>1487693786</td>\n",
       "      <td>1507540704</td>\n",
       "      <td>20</td>\n",
       "      <td>0</td>\n",
       "    </tr>\n",
       "    <tr>\n",
       "      <th>19223</th>\n",
       "      <td>26783</td>\n",
       "      <td>10</td>\n",
       "      <td>1434542952</td>\n",
       "      <td>1434543274</td>\n",
       "      <td>1068</td>\n",
       "      <td>1</td>\n",
       "    </tr>\n",
       "    <tr>\n",
       "      <th>19228</th>\n",
       "      <td>26789</td>\n",
       "      <td>2</td>\n",
       "      <td>1447263411</td>\n",
       "      <td>1447263419</td>\n",
       "      <td>921</td>\n",
       "      <td>1</td>\n",
       "    </tr>\n",
       "    <tr>\n",
       "      <th>19229</th>\n",
       "      <td>26790</td>\n",
       "      <td>8</td>\n",
       "      <td>1451484016</td>\n",
       "      <td>1517495987</td>\n",
       "      <td>751</td>\n",
       "      <td>1</td>\n",
       "    </tr>\n",
       "  </tbody>\n",
       "</table>\n",
       "<p>9761 rows × 6 columns</p>\n",
       "</div>"
      ],
      "text/plain": [
       "       user_id  passed  first_visit  last_visit  max_break  is_gone\n",
       "0            1       0   1472827464  1472827464        625        1\n",
       "2            3      87   1434358476  1444581588        952        1\n",
       "8           14       3   1436366155  1436368676       1047        1\n",
       "9           16     196   1435674765  1513162585        708        0\n",
       "10          17       5   1465762612  1465765342        707        1\n",
       "...        ...     ...          ...         ...        ...      ...\n",
       "19220    26779     196   1473155734  1520157100          8        0\n",
       "19221    26781     198   1487693786  1507540704         20        0\n",
       "19223    26783      10   1434542952  1434543274       1068        1\n",
       "19228    26789       2   1447263411  1447263419        921        1\n",
       "19229    26790       8   1451484016  1517495987        751        1\n",
       "\n",
       "[9761 rows x 6 columns]"
      ]
     },
     "execution_count": 132,
     "metadata": {},
     "output_type": "execute_result"
    }
   ],
   "source": [
    "# Удалим пользователей в \"неопределенном\" статусе, которые и не прошли курс, и не успели его бросить:\n",
    "users = users[(users['is_gone'] == True) | (users['passed_course'] == True)].drop('passed_course', axis=1)\n",
    "users"
   ]
  },
  {
   "cell_type": "code",
   "execution_count": 133,
   "id": "a8bcebdb",
   "metadata": {},
   "outputs": [
    {
     "data": {
      "text/html": [
       "<div>\n",
       "<style scoped>\n",
       "    .dataframe tbody tr th:only-of-type {\n",
       "        vertical-align: middle;\n",
       "    }\n",
       "\n",
       "    .dataframe tbody tr th {\n",
       "        vertical-align: top;\n",
       "    }\n",
       "\n",
       "    .dataframe thead th {\n",
       "        text-align: right;\n",
       "    }\n",
       "</style>\n",
       "<table border=\"1\" class=\"dataframe\">\n",
       "  <thead>\n",
       "    <tr style=\"text-align: right;\">\n",
       "      <th></th>\n",
       "      <th>step_id</th>\n",
       "      <th>timestamp</th>\n",
       "      <th>action</th>\n",
       "      <th>user_id</th>\n",
       "      <th>date</th>\n",
       "      <th>first_visit</th>\n",
       "    </tr>\n",
       "  </thead>\n",
       "  <tbody>\n",
       "    <tr>\n",
       "      <th>0</th>\n",
       "      <td>32815</td>\n",
       "      <td>1434341931</td>\n",
       "      <td>passed</td>\n",
       "      <td>12494</td>\n",
       "      <td>2015-06-15</td>\n",
       "      <td>1434341931</td>\n",
       "    </tr>\n",
       "    <tr>\n",
       "      <th>1</th>\n",
       "      <td>32815</td>\n",
       "      <td>1434341931</td>\n",
       "      <td>discovered</td>\n",
       "      <td>12494</td>\n",
       "      <td>2015-06-15</td>\n",
       "      <td>1434341931</td>\n",
       "    </tr>\n",
       "    <tr>\n",
       "      <th>2</th>\n",
       "      <td>32815</td>\n",
       "      <td>1434341931</td>\n",
       "      <td>viewed</td>\n",
       "      <td>12494</td>\n",
       "      <td>2015-06-15</td>\n",
       "      <td>1434341931</td>\n",
       "    </tr>\n",
       "    <tr>\n",
       "      <th>3</th>\n",
       "      <td>32811</td>\n",
       "      <td>1434341937</td>\n",
       "      <td>viewed</td>\n",
       "      <td>12494</td>\n",
       "      <td>2015-06-15</td>\n",
       "      <td>1434341931</td>\n",
       "    </tr>\n",
       "    <tr>\n",
       "      <th>4</th>\n",
       "      <td>32811</td>\n",
       "      <td>1434341937</td>\n",
       "      <td>passed</td>\n",
       "      <td>12494</td>\n",
       "      <td>2015-06-15</td>\n",
       "      <td>1434341931</td>\n",
       "    </tr>\n",
       "    <tr>\n",
       "      <th>...</th>\n",
       "      <td>...</td>\n",
       "      <td>...</td>\n",
       "      <td>...</td>\n",
       "      <td>...</td>\n",
       "      <td>...</td>\n",
       "      <td>...</td>\n",
       "    </tr>\n",
       "    <tr>\n",
       "      <th>2191678</th>\n",
       "      <td>34004</td>\n",
       "      <td>1525214077</td>\n",
       "      <td>viewed</td>\n",
       "      <td>5573</td>\n",
       "      <td>2018-05-01</td>\n",
       "      <td>1524955364</td>\n",
       "    </tr>\n",
       "    <tr>\n",
       "      <th>2191679</th>\n",
       "      <td>34004</td>\n",
       "      <td>1525214077</td>\n",
       "      <td>discovered</td>\n",
       "      <td>5573</td>\n",
       "      <td>2018-05-01</td>\n",
       "      <td>1524955364</td>\n",
       "    </tr>\n",
       "    <tr>\n",
       "      <th>2191680</th>\n",
       "      <td>33896</td>\n",
       "      <td>1525214489</td>\n",
       "      <td>passed</td>\n",
       "      <td>5573</td>\n",
       "      <td>2018-05-01</td>\n",
       "      <td>1524955364</td>\n",
       "    </tr>\n",
       "    <tr>\n",
       "      <th>2191681</th>\n",
       "      <td>33896</td>\n",
       "      <td>1525214489</td>\n",
       "      <td>viewed</td>\n",
       "      <td>5573</td>\n",
       "      <td>2018-05-01</td>\n",
       "      <td>1524955364</td>\n",
       "    </tr>\n",
       "    <tr>\n",
       "      <th>2191682</th>\n",
       "      <td>33896</td>\n",
       "      <td>1525214489</td>\n",
       "      <td>discovered</td>\n",
       "      <td>5573</td>\n",
       "      <td>2018-05-01</td>\n",
       "      <td>1524955364</td>\n",
       "    </tr>\n",
       "  </tbody>\n",
       "</table>\n",
       "<p>534149 rows × 6 columns</p>\n",
       "</div>"
      ],
      "text/plain": [
       "         step_id   timestamp      action  user_id        date  first_visit\n",
       "0          32815  1434341931      passed    12494  2015-06-15   1434341931\n",
       "1          32815  1434341931  discovered    12494  2015-06-15   1434341931\n",
       "2          32815  1434341931      viewed    12494  2015-06-15   1434341931\n",
       "3          32811  1434341937      viewed    12494  2015-06-15   1434341931\n",
       "4          32811  1434341937      passed    12494  2015-06-15   1434341931\n",
       "...          ...         ...         ...      ...         ...          ...\n",
       "2191678    34004  1525214077      viewed     5573  2018-05-01   1524955364\n",
       "2191679    34004  1525214077  discovered     5573  2018-05-01   1524955364\n",
       "2191680    33896  1525214489      passed     5573  2018-05-01   1524955364\n",
       "2191681    33896  1525214489      viewed     5573  2018-05-01   1524955364\n",
       "2191682    33896  1525214489  discovered     5573  2018-05-01   1524955364\n",
       "\n",
       "[534149 rows x 6 columns]"
      ]
     },
     "execution_count": 133,
     "metadata": {},
     "output_type": "execute_result"
    }
   ],
   "source": [
    "# Нужно предсказать, что пользователь покинет курс как можно раньше, пока он еще здесь.\n",
    "# Правда ли, что по поведению пользователя на курсе за первую неделю (или несколько дней)\n",
    "# можно предсказать закончит он курс или нет?\n",
    "\n",
    "# Попробуем порог в 3 дня:\n",
    "learning_time_threshold = 3 * 24 * 60 * 60\n",
    "\n",
    "# Для каждого пользователя отберем события, которые с ним происходили в течение первых 3 дней:\n",
    "events_train = events_data[events_data['user_id'].isin(users['user_id'])]\n",
    "events_train = events_train.merge(first_visits, on='user_id')\n",
    "events_train = events_train.query(\"timestamp - first_visit < @learning_time_threshold\")\n",
    "events_train"
   ]
  },
  {
   "cell_type": "code",
   "execution_count": 134,
   "id": "27beb9ee",
   "metadata": {},
   "outputs": [
    {
     "data": {
      "text/html": [
       "<div>\n",
       "<style scoped>\n",
       "    .dataframe tbody tr th:only-of-type {\n",
       "        vertical-align: middle;\n",
       "    }\n",
       "\n",
       "    .dataframe tbody tr th {\n",
       "        vertical-align: top;\n",
       "    }\n",
       "\n",
       "    .dataframe thead th {\n",
       "        text-align: right;\n",
       "    }\n",
       "</style>\n",
       "<table border=\"1\" class=\"dataframe\">\n",
       "  <thead>\n",
       "    <tr style=\"text-align: right;\">\n",
       "      <th></th>\n",
       "      <th>step_id</th>\n",
       "      <th>timestamp</th>\n",
       "      <th>submission_status</th>\n",
       "      <th>user_id</th>\n",
       "      <th>date</th>\n",
       "      <th>first_visit</th>\n",
       "    </tr>\n",
       "  </thead>\n",
       "  <tbody>\n",
       "    <tr>\n",
       "      <th>0</th>\n",
       "      <td>31971</td>\n",
       "      <td>1434349275</td>\n",
       "      <td>correct</td>\n",
       "      <td>15853</td>\n",
       "      <td>2015-06-15</td>\n",
       "      <td>1434345977</td>\n",
       "    </tr>\n",
       "    <tr>\n",
       "      <th>1</th>\n",
       "      <td>31972</td>\n",
       "      <td>1434348300</td>\n",
       "      <td>correct</td>\n",
       "      <td>15853</td>\n",
       "      <td>2015-06-15</td>\n",
       "      <td>1434345977</td>\n",
       "    </tr>\n",
       "    <tr>\n",
       "      <th>4</th>\n",
       "      <td>31976</td>\n",
       "      <td>1434348123</td>\n",
       "      <td>wrong</td>\n",
       "      <td>15853</td>\n",
       "      <td>2015-06-15</td>\n",
       "      <td>1434345977</td>\n",
       "    </tr>\n",
       "    <tr>\n",
       "      <th>5</th>\n",
       "      <td>31976</td>\n",
       "      <td>1434348188</td>\n",
       "      <td>correct</td>\n",
       "      <td>15853</td>\n",
       "      <td>2015-06-15</td>\n",
       "      <td>1434345977</td>\n",
       "    </tr>\n",
       "    <tr>\n",
       "      <th>7</th>\n",
       "      <td>31977</td>\n",
       "      <td>1434347371</td>\n",
       "      <td>correct</td>\n",
       "      <td>15853</td>\n",
       "      <td>2015-06-15</td>\n",
       "      <td>1434345977</td>\n",
       "    </tr>\n",
       "    <tr>\n",
       "      <th>...</th>\n",
       "      <td>...</td>\n",
       "      <td>...</td>\n",
       "      <td>...</td>\n",
       "      <td>...</td>\n",
       "      <td>...</td>\n",
       "      <td>...</td>\n",
       "    </tr>\n",
       "    <tr>\n",
       "      <th>330465</th>\n",
       "      <td>120745</td>\n",
       "      <td>1476419925</td>\n",
       "      <td>wrong</td>\n",
       "      <td>10312</td>\n",
       "      <td>2016-10-14</td>\n",
       "      <td>1476417044</td>\n",
       "    </tr>\n",
       "    <tr>\n",
       "      <th>330466</th>\n",
       "      <td>120745</td>\n",
       "      <td>1476419953</td>\n",
       "      <td>correct</td>\n",
       "      <td>10312</td>\n",
       "      <td>2016-10-14</td>\n",
       "      <td>1476417044</td>\n",
       "    </tr>\n",
       "    <tr>\n",
       "      <th>330467</th>\n",
       "      <td>120745</td>\n",
       "      <td>1476767714</td>\n",
       "      <td>correct</td>\n",
       "      <td>21817</td>\n",
       "      <td>2016-10-18</td>\n",
       "      <td>1476767576</td>\n",
       "    </tr>\n",
       "    <tr>\n",
       "      <th>330470</th>\n",
       "      <td>120745</td>\n",
       "      <td>1478563508</td>\n",
       "      <td>correct</td>\n",
       "      <td>26766</td>\n",
       "      <td>2016-11-08</td>\n",
       "      <td>1478561209</td>\n",
       "    </tr>\n",
       "    <tr>\n",
       "      <th>330471</th>\n",
       "      <td>120745</td>\n",
       "      <td>1479636345</td>\n",
       "      <td>correct</td>\n",
       "      <td>23697</td>\n",
       "      <td>2016-11-20</td>\n",
       "      <td>1479633822</td>\n",
       "    </tr>\n",
       "  </tbody>\n",
       "</table>\n",
       "<p>73343 rows × 6 columns</p>\n",
       "</div>"
      ],
      "text/plain": [
       "        step_id   timestamp submission_status  user_id        date  \\\n",
       "0         31971  1434349275           correct    15853  2015-06-15   \n",
       "1         31972  1434348300           correct    15853  2015-06-15   \n",
       "4         31976  1434348123             wrong    15853  2015-06-15   \n",
       "5         31976  1434348188           correct    15853  2015-06-15   \n",
       "7         31977  1434347371           correct    15853  2015-06-15   \n",
       "...         ...         ...               ...      ...         ...   \n",
       "330465   120745  1476419925             wrong    10312  2016-10-14   \n",
       "330466   120745  1476419953           correct    10312  2016-10-14   \n",
       "330467   120745  1476767714           correct    21817  2016-10-18   \n",
       "330470   120745  1478563508           correct    26766  2016-11-08   \n",
       "330471   120745  1479636345           correct    23697  2016-11-20   \n",
       "\n",
       "        first_visit  \n",
       "0        1434345977  \n",
       "1        1434345977  \n",
       "4        1434345977  \n",
       "5        1434345977  \n",
       "7        1434345977  \n",
       "...             ...  \n",
       "330465   1476417044  \n",
       "330466   1476417044  \n",
       "330467   1476767576  \n",
       "330470   1478561209  \n",
       "330471   1479633822  \n",
       "\n",
       "[73343 rows x 6 columns]"
      ]
     },
     "execution_count": 134,
     "metadata": {},
     "output_type": "execute_result"
    }
   ],
   "source": [
    "# Для каждого пользователя отберем сабмиты, которые они отправляли в течение первых 3 дней:\n",
    "submissions = submissions_train[submissions_train['user_id'].isin(users['user_id'])]\n",
    "submissions = submissions.merge(first_visits, on='user_id')\n",
    "submissions = submissions.query('timestamp - first_visit <= @learning_time_threshold')\n",
    "submissions"
   ]
  },
  {
   "cell_type": "code",
   "execution_count": 135,
   "id": "40a92364",
   "metadata": {},
   "outputs": [
    {
     "data": {
      "text/html": [
       "<div>\n",
       "<style scoped>\n",
       "    .dataframe tbody tr th:only-of-type {\n",
       "        vertical-align: middle;\n",
       "    }\n",
       "\n",
       "    .dataframe tbody tr th {\n",
       "        vertical-align: top;\n",
       "    }\n",
       "\n",
       "    .dataframe thead th {\n",
       "        text-align: right;\n",
       "    }\n",
       "</style>\n",
       "<table border=\"1\" class=\"dataframe\">\n",
       "  <thead>\n",
       "    <tr style=\"text-align: right;\">\n",
       "      <th></th>\n",
       "      <th>user_id</th>\n",
       "      <th>is_gone</th>\n",
       "      <th>days_of_training</th>\n",
       "      <th>tasks_tried</th>\n",
       "      <th>correct</th>\n",
       "      <th>wrong</th>\n",
       "      <th>viewed</th>\n",
       "    </tr>\n",
       "  </thead>\n",
       "  <tbody>\n",
       "    <tr>\n",
       "      <th>0</th>\n",
       "      <td>1</td>\n",
       "      <td>1.0</td>\n",
       "      <td>NaN</td>\n",
       "      <td>NaN</td>\n",
       "      <td>NaN</td>\n",
       "      <td>NaN</td>\n",
       "      <td>1</td>\n",
       "    </tr>\n",
       "    <tr>\n",
       "      <th>1</th>\n",
       "      <td>3</td>\n",
       "      <td>1.0</td>\n",
       "      <td>5.0</td>\n",
       "      <td>29.0</td>\n",
       "      <td>29.0</td>\n",
       "      <td>23.0</td>\n",
       "      <td>20</td>\n",
       "    </tr>\n",
       "    <tr>\n",
       "      <th>2</th>\n",
       "      <td>14</td>\n",
       "      <td>1.0</td>\n",
       "      <td>1.0</td>\n",
       "      <td>1.0</td>\n",
       "      <td>0.0</td>\n",
       "      <td>1.0</td>\n",
       "      <td>9</td>\n",
       "    </tr>\n",
       "    <tr>\n",
       "      <th>3</th>\n",
       "      <td>16</td>\n",
       "      <td>0.0</td>\n",
       "      <td>13.0</td>\n",
       "      <td>76.0</td>\n",
       "      <td>77.0</td>\n",
       "      <td>106.0</td>\n",
       "      <td>132</td>\n",
       "    </tr>\n",
       "    <tr>\n",
       "      <th>4</th>\n",
       "      <td>17</td>\n",
       "      <td>1.0</td>\n",
       "      <td>1.0</td>\n",
       "      <td>1.0</td>\n",
       "      <td>0.0</td>\n",
       "      <td>2.0</td>\n",
       "      <td>13</td>\n",
       "    </tr>\n",
       "    <tr>\n",
       "      <th>...</th>\n",
       "      <td>...</td>\n",
       "      <td>...</td>\n",
       "      <td>...</td>\n",
       "      <td>...</td>\n",
       "      <td>...</td>\n",
       "      <td>...</td>\n",
       "      <td>...</td>\n",
       "    </tr>\n",
       "    <tr>\n",
       "      <th>9756</th>\n",
       "      <td>26779</td>\n",
       "      <td>0.0</td>\n",
       "      <td>19.0</td>\n",
       "      <td>76.0</td>\n",
       "      <td>76.0</td>\n",
       "      <td>41.0</td>\n",
       "      <td>44</td>\n",
       "    </tr>\n",
       "    <tr>\n",
       "      <th>9757</th>\n",
       "      <td>26781</td>\n",
       "      <td>0.0</td>\n",
       "      <td>20.0</td>\n",
       "      <td>76.0</td>\n",
       "      <td>92.0</td>\n",
       "      <td>75.0</td>\n",
       "      <td>6</td>\n",
       "    </tr>\n",
       "    <tr>\n",
       "      <th>9758</th>\n",
       "      <td>26783</td>\n",
       "      <td>1.0</td>\n",
       "      <td>1.0</td>\n",
       "      <td>2.0</td>\n",
       "      <td>2.0</td>\n",
       "      <td>0.0</td>\n",
       "      <td>20</td>\n",
       "    </tr>\n",
       "    <tr>\n",
       "      <th>9759</th>\n",
       "      <td>26789</td>\n",
       "      <td>1.0</td>\n",
       "      <td>NaN</td>\n",
       "      <td>NaN</td>\n",
       "      <td>NaN</td>\n",
       "      <td>NaN</td>\n",
       "      <td>2</td>\n",
       "    </tr>\n",
       "    <tr>\n",
       "      <th>9760</th>\n",
       "      <td>26790</td>\n",
       "      <td>1.0</td>\n",
       "      <td>1.0</td>\n",
       "      <td>1.0</td>\n",
       "      <td>1.0</td>\n",
       "      <td>0.0</td>\n",
       "      <td>6</td>\n",
       "    </tr>\n",
       "  </tbody>\n",
       "</table>\n",
       "<p>9761 rows × 7 columns</p>\n",
       "</div>"
      ],
      "text/plain": [
       "      user_id  is_gone  days_of_training  tasks_tried  correct  wrong  viewed\n",
       "0           1      1.0               NaN          NaN      NaN    NaN       1\n",
       "1           3      1.0               5.0         29.0     29.0   23.0      20\n",
       "2          14      1.0               1.0          1.0      0.0    1.0       9\n",
       "3          16      0.0              13.0         76.0     77.0  106.0     132\n",
       "4          17      1.0               1.0          1.0      0.0    2.0      13\n",
       "...       ...      ...               ...          ...      ...    ...     ...\n",
       "9756    26779      0.0              19.0         76.0     76.0   41.0      44\n",
       "9757    26781      0.0              20.0         76.0     92.0   75.0       6\n",
       "9758    26783      1.0               1.0          2.0      2.0    0.0      20\n",
       "9759    26789      1.0               NaN          NaN      NaN    NaN       2\n",
       "9760    26790      1.0               1.0          1.0      1.0    0.0       6\n",
       "\n",
       "[9761 rows x 7 columns]"
      ]
     },
     "execution_count": 135,
     "metadata": {},
     "output_type": "execute_result"
    }
   ],
   "source": [
    "# Соберем X:\n",
    "X = users[['user_id','is_gone']]\n",
    "\n",
    "# Посчитаем количество уникальных дней, в которые пользователь решал задачи:\n",
    "days_of_training = submissions_train.groupby('user_id').date.nunique().to_frame() \\\n",
    "    .rename(columns={'date': 'days_of_training'})\n",
    "\n",
    "# Посчитаем количество задач, которые пользователь попробовал решить:\n",
    "steps_tried = submissions_train.groupby('user_id').step_id.nunique().to_frame() \\\n",
    "    .rename(columns={'step_id': 'tasks_tried'})\n",
    "\n",
    "# Посчитаем количество правильных и неправильных ответов:\n",
    "submission_statuses = submissions_train.pivot_table(\n",
    "    index='user_id', columns='submission_status', values='step_id', aggfunc='count', fill_value=0\n",
    ")\n",
    "\n",
    "# Посчитаем количество просмотренных шагов:\n",
    "viewed = events_train.pivot_table(\n",
    "    index='user_id', columns='action', values='step_id', aggfunc='count', fill_value=0\n",
    ").reset_index().rename_axis('', axis=1)[['user_id', 'viewed']]\n",
    "\n",
    "X = X.merge(days_of_training, on='user_id', how='outer')\n",
    "X = X.merge(steps_tried, on='user_id', how='outer')\n",
    "X = X.merge(submission_statuses, on='user_id', how='outer')\n",
    "X = X.merge(viewed, on='user_id')\n",
    "X"
   ]
  },
  {
   "cell_type": "code",
   "execution_count": 136,
   "id": "d61495ec",
   "metadata": {},
   "outputs": [
    {
     "data": {
      "text/html": [
       "<div>\n",
       "<style scoped>\n",
       "    .dataframe tbody tr th:only-of-type {\n",
       "        vertical-align: middle;\n",
       "    }\n",
       "\n",
       "    .dataframe tbody tr th {\n",
       "        vertical-align: top;\n",
       "    }\n",
       "\n",
       "    .dataframe thead th {\n",
       "        text-align: right;\n",
       "    }\n",
       "</style>\n",
       "<table border=\"1\" class=\"dataframe\">\n",
       "  <thead>\n",
       "    <tr style=\"text-align: right;\">\n",
       "      <th></th>\n",
       "      <th>is_gone</th>\n",
       "      <th>days_of_training</th>\n",
       "      <th>tasks_tried</th>\n",
       "      <th>correct</th>\n",
       "      <th>wrong</th>\n",
       "      <th>viewed</th>\n",
       "      <th>correct_ratio</th>\n",
       "    </tr>\n",
       "    <tr>\n",
       "      <th>user_id</th>\n",
       "      <th></th>\n",
       "      <th></th>\n",
       "      <th></th>\n",
       "      <th></th>\n",
       "      <th></th>\n",
       "      <th></th>\n",
       "      <th></th>\n",
       "    </tr>\n",
       "  </thead>\n",
       "  <tbody>\n",
       "    <tr>\n",
       "      <th>1</th>\n",
       "      <td>1.0</td>\n",
       "      <td>0</td>\n",
       "      <td>0</td>\n",
       "      <td>0</td>\n",
       "      <td>0</td>\n",
       "      <td>1</td>\n",
       "      <td>0.000000</td>\n",
       "    </tr>\n",
       "    <tr>\n",
       "      <th>3</th>\n",
       "      <td>1.0</td>\n",
       "      <td>5</td>\n",
       "      <td>29</td>\n",
       "      <td>29</td>\n",
       "      <td>23</td>\n",
       "      <td>20</td>\n",
       "      <td>0.557692</td>\n",
       "    </tr>\n",
       "    <tr>\n",
       "      <th>14</th>\n",
       "      <td>1.0</td>\n",
       "      <td>1</td>\n",
       "      <td>1</td>\n",
       "      <td>0</td>\n",
       "      <td>1</td>\n",
       "      <td>9</td>\n",
       "      <td>0.000000</td>\n",
       "    </tr>\n",
       "    <tr>\n",
       "      <th>16</th>\n",
       "      <td>0.0</td>\n",
       "      <td>13</td>\n",
       "      <td>76</td>\n",
       "      <td>77</td>\n",
       "      <td>106</td>\n",
       "      <td>132</td>\n",
       "      <td>0.420765</td>\n",
       "    </tr>\n",
       "    <tr>\n",
       "      <th>17</th>\n",
       "      <td>1.0</td>\n",
       "      <td>1</td>\n",
       "      <td>1</td>\n",
       "      <td>0</td>\n",
       "      <td>2</td>\n",
       "      <td>13</td>\n",
       "      <td>0.000000</td>\n",
       "    </tr>\n",
       "    <tr>\n",
       "      <th>...</th>\n",
       "      <td>...</td>\n",
       "      <td>...</td>\n",
       "      <td>...</td>\n",
       "      <td>...</td>\n",
       "      <td>...</td>\n",
       "      <td>...</td>\n",
       "      <td>...</td>\n",
       "    </tr>\n",
       "    <tr>\n",
       "      <th>26779</th>\n",
       "      <td>0.0</td>\n",
       "      <td>19</td>\n",
       "      <td>76</td>\n",
       "      <td>76</td>\n",
       "      <td>41</td>\n",
       "      <td>44</td>\n",
       "      <td>0.649573</td>\n",
       "    </tr>\n",
       "    <tr>\n",
       "      <th>26781</th>\n",
       "      <td>0.0</td>\n",
       "      <td>20</td>\n",
       "      <td>76</td>\n",
       "      <td>92</td>\n",
       "      <td>75</td>\n",
       "      <td>6</td>\n",
       "      <td>0.550898</td>\n",
       "    </tr>\n",
       "    <tr>\n",
       "      <th>26783</th>\n",
       "      <td>1.0</td>\n",
       "      <td>1</td>\n",
       "      <td>2</td>\n",
       "      <td>2</td>\n",
       "      <td>0</td>\n",
       "      <td>20</td>\n",
       "      <td>1.000000</td>\n",
       "    </tr>\n",
       "    <tr>\n",
       "      <th>26789</th>\n",
       "      <td>1.0</td>\n",
       "      <td>0</td>\n",
       "      <td>0</td>\n",
       "      <td>0</td>\n",
       "      <td>0</td>\n",
       "      <td>2</td>\n",
       "      <td>0.000000</td>\n",
       "    </tr>\n",
       "    <tr>\n",
       "      <th>26790</th>\n",
       "      <td>1.0</td>\n",
       "      <td>1</td>\n",
       "      <td>1</td>\n",
       "      <td>1</td>\n",
       "      <td>0</td>\n",
       "      <td>6</td>\n",
       "      <td>1.000000</td>\n",
       "    </tr>\n",
       "  </tbody>\n",
       "</table>\n",
       "<p>9761 rows × 7 columns</p>\n",
       "</div>"
      ],
      "text/plain": [
       "         is_gone  days_of_training  tasks_tried  correct  wrong  viewed  \\\n",
       "user_id                                                                   \n",
       "1            1.0                 0            0        0      0       1   \n",
       "3            1.0                 5           29       29     23      20   \n",
       "14           1.0                 1            1        0      1       9   \n",
       "16           0.0                13           76       77    106     132   \n",
       "17           1.0                 1            1        0      2      13   \n",
       "...          ...               ...          ...      ...    ...     ...   \n",
       "26779        0.0                19           76       76     41      44   \n",
       "26781        0.0                20           76       92     75       6   \n",
       "26783        1.0                 1            2        2      0      20   \n",
       "26789        1.0                 0            0        0      0       2   \n",
       "26790        1.0                 1            1        1      0       6   \n",
       "\n",
       "         correct_ratio  \n",
       "user_id                 \n",
       "1             0.000000  \n",
       "3             0.557692  \n",
       "14            0.000000  \n",
       "16            0.420765  \n",
       "17            0.000000  \n",
       "...                ...  \n",
       "26779         0.649573  \n",
       "26781         0.550898  \n",
       "26783         1.000000  \n",
       "26789         0.000000  \n",
       "26790         1.000000  \n",
       "\n",
       "[9761 rows x 7 columns]"
      ]
     },
     "execution_count": 136,
     "metadata": {},
     "output_type": "execute_result"
    }
   ],
   "source": [
    "# Рассчитаем процент правильных ответов:\n",
    "X['correct_ratio'] = X['correct'] / (X['correct'] + X['wrong'])\n",
    "\n",
    "# Заполним ячейки со значением \"Nan\" нулями:\n",
    "X = X.fillna(0)\n",
    "\n",
    "# Конвертируем значения в целые числа:\n",
    "for col in ['days_of_training', 'tasks_tried', 'correct', 'wrong']:\n",
    "    X[col] = X[col].map(int)\n",
    "\n",
    "# Сделаем индекс по ID пользователя:\n",
    "X = X.rename_axis('', axis=1).set_index('user_id')\n",
    "X"
   ]
  },
  {
   "cell_type": "code",
   "execution_count": 137,
   "id": "55cf22bc",
   "metadata": {},
   "outputs": [],
   "source": [
    "# Соберем y:\n",
    "y = X['is_gone']\n",
    "X = X.drop(['is_gone'], axis=1)\n",
    "\n",
    "x_train, x_test, y_train, y_test= train_test_split(X, y, test_size = .33, random_state = 0)"
   ]
  },
  {
   "cell_type": "markdown",
   "id": "a91fe29d",
   "metadata": {},
   "source": [
    "### Применим алгоритм решающего дерева, отобрав наилучшую модель \"руками\""
   ]
  },
  {
   "cell_type": "code",
   "execution_count": 138,
   "id": "c7063151",
   "metadata": {},
   "outputs": [
    {
     "data": {
      "text/plain": [
       "[<matplotlib.lines.Line2D at 0x1f6da212940>]"
      ]
     },
     "execution_count": 138,
     "metadata": {},
     "output_type": "execute_result"
    },
    {
     "data": {
      "image/png": "[encoded data removed]",
      "text/plain": [
       "<Figure size 648x432 with 1 Axes>"
      ]
     },
     "metadata": {},
     "output_type": "display_data"
    }
   ],
   "source": [
    "# Пишем цикл нахождения оценок (accuracy) относительно изменения глубины дерева c учетом усредненного показателя точности на\n",
    "# кроссвалидации с тюнингом гиперпараметра глубины дерева\n",
    "max_depth_value = range(1, 100)\n",
    "scores_data = pd.DataFrame()\n",
    "\n",
    "for max_depth in max_depth_value:\n",
    "    clf = tree.DecisionTreeClassifier(criterion = 'entropy', max_depth = max_depth)\n",
    "    clf.fit(x_train, y_train)\n",
    "    train_score = clf.score(x_train, y_train)\n",
    "    test_score = clf.score(x_test, y_test)\n",
    "    mean_cross_val_score = cross_val_score(clf, x_train, y_train, cv = 10).mean()\n",
    "    \n",
    "    temp_data = pd.DataFrame({'max_depth': [max_depth], \n",
    "                              'train_score': [train_score], \n",
    "                              'test_score': [test_score],\n",
    "                              'cross_val_score': [mean_cross_val_score]})\n",
    "    scores_data = scores_data.append(temp_data)\n",
    "\n",
    "# Визуализируем результаты, обозначив значение максимального скора при кросс-валидаци\n",
    "scores_data_melt = pd.melt(scores_data, id_vars = ['max_depth'], value_vars = ['train_score', 'test_score', 'cross_val_score'],\n",
    "                          var_name = 'set_type', value_name = 'score')\n",
    "\n",
    "sns.lineplot(x = 'max_depth', y = 'score', hue = 'set_type', data = scores_data_melt, marker = 'o')\n",
    "plt.plot(scores_data.query(\"cross_val_score == cross_val_score.max()\").max_depth,\n",
    "         scores_data.query(\"cross_val_score == cross_val_score.max()\").cross_val_score, \n",
    "         marker = \"o\", ms = 8, color = 'red')\n",
    "# Получим, что наибольший скор на кросс-валидации достигается при глубине дерева, равного 2"
   ]
  },
  {
   "cell_type": "code",
   "execution_count": 139,
   "id": "066f069a",
   "metadata": {},
   "outputs": [
    {
     "data": {
      "text/plain": [
       "0.9941030415890751"
      ]
     },
     "execution_count": 139,
     "metadata": {},
     "output_type": "execute_result"
    }
   ],
   "source": [
    "best_clf = tree.DecisionTreeClassifier(criterion = 'entropy', max_depth = 2)\n",
    "best_clf.fit(x_train, y_train)\n",
    "best_clf.score(x_test, y_test)\n",
    "# Получили точность в 99.4% на наилучшей модели - получилось довольно успешно"
   ]
  },
  {
   "cell_type": "code",
   "execution_count": 140,
   "id": "9d96cd2b",
   "metadata": {},
   "outputs": [
    {
     "data": {
      "application/vnd.jupyter.widget-view+json": {
       "model_id": "b3c25c2176b040409d82678562468ad8",
       "version_major": 2,
       "version_minor": 0
      },
      "text/plain": [
       "interactive(children=(IntSlider(value=100, continuous_update=False, description='Scale (%):', max=500, min=30)…"
      ]
     },
     "metadata": {},
     "output_type": "display_data"
    },
    {
     "data": {
      "text/plain": [
       "<function __main__.draw_graphviz.<locals>._draw_svg(scale)>"
      ]
     },
     "execution_count": 140,
     "metadata": {},
     "output_type": "execute_result"
    }
   ],
   "source": [
    "import os\n",
    "os.environ[\"PATH\"] += os.pathsep + 'C:\\\\Users\\\\123\\\\anaconda3\\\\pkgs\\\\graphviz-2.38-hfd603c8_2\\\\Library\\\\bin\\\\graphviz'\n",
    "\n",
    "def draw_graphviz(graph):\n",
    "    import re\n",
    "    import ipywidgets as widgets\n",
    "    from IPython.display import SVG, HTML\n",
    "    from graphviz import Source\n",
    "    \n",
    "    graph = Source(graph)\n",
    "    image = graph.pipe(format=\"svg\")\n",
    "    svg = SVG(image)\n",
    "    svg_data = svg.data\n",
    "    svg_data = re.sub(\n",
    "        r'<svg xmlns=\\\"http://www\\.w3\\.org/2000/svg\\\" xmlns:xlink=\\\"http://www\\.w3\\.org/1999/xlink\\\" width=\\\"\\d+pt\\\" height=\\\"\\d+pt\\\"',\n",
    "        '<svg xmlns=\"http://www.w3.org/2000/svg\" xmlns:xlink=\"http://www.w3.org/1999/xlink\" width=\"100%\" height=\"100%\"',\n",
    "        svg_data,\n",
    "    )\n",
    "    \n",
    "    @widgets.interact(scale=widgets.IntSlider(min=30, max=500, step=1, value=100, description=\"Scale (%):\", continuous_update=False))\n",
    "    def _draw_svg(scale):\n",
    "        return HTML('<div style=\"width: {width}%;\">{svg}</div>'.format(width=scale, svg=svg_data))\n",
    "    return _draw_svg\n",
    "\n",
    "graph = tree.export_graphviz(best_clf, out_file = None,\n",
    "                                   feature_names = list(X),\n",
    "                                   class_names = ['Gone', 'Passed'],\n",
    "                                   filled = True)\n",
    "draw_graphviz(graph)\n",
    "# Изображаем решающее дерево, полученно после обучения модели на исходных X и Y"
   ]
  },
  {
   "cell_type": "code",
   "execution_count": 141,
   "id": "0641f506",
   "metadata": {
    "scrolled": false
   },
   "outputs": [
    {
     "data": {
      "image/png": "[encoded data removed]",
      "text/plain": [
       "<Figure size 648x432 with 1 Axes>"
      ]
     },
     "metadata": {},
     "output_type": "display_data"
    }
   ],
   "source": [
    "y_predicted_prob = best_clf.predict_proba(x_test)\n",
    "fpr, tpr, thresholds = roc_curve(y_test, y_predicted_prob[:,1])\n",
    "roc_auc= auc(fpr, tpr)\n",
    "plt.figure()\n",
    "plt.plot(fpr, tpr, color='darkorange', \n",
    "         lw = 2, label='ROC curve (area = %0.2f)' % roc_auc)\n",
    "plt.plot([0, 1], [0, 1], color='navy', lw=2, linestyle='--')\n",
    "plt.xlim([0.0, 1.0])\n",
    "plt.ylim([0.0, 1.05])\n",
    "plt.xlabel('False Positive Rate')\n",
    "plt.ylabel('True Positive Rate')\n",
    "plt.title('Receiver operating characteristic example')\n",
    "plt.legend(loc=\"lower right\")\n",
    "plt.show()\n",
    "# Оценка ROC-кривой также показывает, что у нас нет проблемы с неверно классифицированными "
   ]
  },
  {
   "cell_type": "markdown",
   "id": "ef5452f6",
   "metadata": {},
   "source": [
    "# Применение метода решающего дерева на примере датасета \"Titanic\""
   ]
  },
  {
   "cell_type": "code",
   "execution_count": 142,
   "id": "a81aa14d",
   "metadata": {},
   "outputs": [],
   "source": [
    "# Ставлю директорую в PATH, чтобы программа могла обращаться к части dot модуля graphviz\n",
    "import os\n",
    "os.environ[\"PATH\"] += os.pathsep + 'C:\\\\Users\\\\123\\\\anaconda3\\\\pkgs\\\\graphviz-2.38-hfd603c8_2\\\\Library\\\\bin\\\\graphviz'"
   ]
  },
  {
   "cell_type": "code",
   "execution_count": 143,
   "id": "ed1a5a43",
   "metadata": {},
   "outputs": [],
   "source": [
    "# Подгружаем данные с API Kaggle\n",
    "api = KaggleApi()\n",
    "api.authenticate()"
   ]
  },
  {
   "cell_type": "code",
   "execution_count": 144,
   "id": "60536c8e",
   "metadata": {},
   "outputs": [
    {
     "name": "stdout",
     "output_type": "stream",
     "text": [
      "train.csv: Skipping, found more recently modified local copy (use --force to force download)\n"
     ]
    }
   ],
   "source": [
    "api.competition_download_file('titanic',\n",
    "                             'train.csv')"
   ]
  },
  {
   "cell_type": "code",
   "execution_count": 145,
   "id": "c24e6bc0",
   "metadata": {},
   "outputs": [
    {
     "data": {
      "text/html": [
       "<div>\n",
       "<style scoped>\n",
       "    .dataframe tbody tr th:only-of-type {\n",
       "        vertical-align: middle;\n",
       "    }\n",
       "\n",
       "    .dataframe tbody tr th {\n",
       "        vertical-align: top;\n",
       "    }\n",
       "\n",
       "    .dataframe thead th {\n",
       "        text-align: right;\n",
       "    }\n",
       "</style>\n",
       "<table border=\"1\" class=\"dataframe\">\n",
       "  <thead>\n",
       "    <tr style=\"text-align: right;\">\n",
       "      <th></th>\n",
       "      <th>PassengerId</th>\n",
       "      <th>Survived</th>\n",
       "      <th>Pclass</th>\n",
       "      <th>Name</th>\n",
       "      <th>Sex</th>\n",
       "      <th>Age</th>\n",
       "      <th>SibSp</th>\n",
       "      <th>Parch</th>\n",
       "      <th>Ticket</th>\n",
       "      <th>Fare</th>\n",
       "      <th>Cabin</th>\n",
       "      <th>Embarked</th>\n",
       "    </tr>\n",
       "  </thead>\n",
       "  <tbody>\n",
       "    <tr>\n",
       "      <th>0</th>\n",
       "      <td>1</td>\n",
       "      <td>0</td>\n",
       "      <td>3</td>\n",
       "      <td>Braund, Mr. Owen Harris</td>\n",
       "      <td>male</td>\n",
       "      <td>22.0</td>\n",
       "      <td>1</td>\n",
       "      <td>0</td>\n",
       "      <td>A/5 21171</td>\n",
       "      <td>7.2500</td>\n",
       "      <td>NaN</td>\n",
       "      <td>S</td>\n",
       "    </tr>\n",
       "    <tr>\n",
       "      <th>1</th>\n",
       "      <td>2</td>\n",
       "      <td>1</td>\n",
       "      <td>1</td>\n",
       "      <td>Cumings, Mrs. John Bradley (Florence Briggs Th...</td>\n",
       "      <td>female</td>\n",
       "      <td>38.0</td>\n",
       "      <td>1</td>\n",
       "      <td>0</td>\n",
       "      <td>PC 17599</td>\n",
       "      <td>71.2833</td>\n",
       "      <td>C85</td>\n",
       "      <td>C</td>\n",
       "    </tr>\n",
       "    <tr>\n",
       "      <th>2</th>\n",
       "      <td>3</td>\n",
       "      <td>1</td>\n",
       "      <td>3</td>\n",
       "      <td>Heikkinen, Miss. Laina</td>\n",
       "      <td>female</td>\n",
       "      <td>26.0</td>\n",
       "      <td>0</td>\n",
       "      <td>0</td>\n",
       "      <td>STON/O2. 3101282</td>\n",
       "      <td>7.9250</td>\n",
       "      <td>NaN</td>\n",
       "      <td>S</td>\n",
       "    </tr>\n",
       "    <tr>\n",
       "      <th>3</th>\n",
       "      <td>4</td>\n",
       "      <td>1</td>\n",
       "      <td>1</td>\n",
       "      <td>Futrelle, Mrs. Jacques Heath (Lily May Peel)</td>\n",
       "      <td>female</td>\n",
       "      <td>35.0</td>\n",
       "      <td>1</td>\n",
       "      <td>0</td>\n",
       "      <td>113803</td>\n",
       "      <td>53.1000</td>\n",
       "      <td>C123</td>\n",
       "      <td>S</td>\n",
       "    </tr>\n",
       "    <tr>\n",
       "      <th>4</th>\n",
       "      <td>5</td>\n",
       "      <td>0</td>\n",
       "      <td>3</td>\n",
       "      <td>Allen, Mr. William Henry</td>\n",
       "      <td>male</td>\n",
       "      <td>35.0</td>\n",
       "      <td>0</td>\n",
       "      <td>0</td>\n",
       "      <td>373450</td>\n",
       "      <td>8.0500</td>\n",
       "      <td>NaN</td>\n",
       "      <td>S</td>\n",
       "    </tr>\n",
       "  </tbody>\n",
       "</table>\n",
       "</div>"
      ],
      "text/plain": [
       "   PassengerId  Survived  Pclass  \\\n",
       "0            1         0       3   \n",
       "1            2         1       1   \n",
       "2            3         1       3   \n",
       "3            4         1       1   \n",
       "4            5         0       3   \n",
       "\n",
       "                                                Name     Sex   Age  SibSp  \\\n",
       "0                            Braund, Mr. Owen Harris    male  22.0      1   \n",
       "1  Cumings, Mrs. John Bradley (Florence Briggs Th...  female  38.0      1   \n",
       "2                             Heikkinen, Miss. Laina  female  26.0      0   \n",
       "3       Futrelle, Mrs. Jacques Heath (Lily May Peel)  female  35.0      1   \n",
       "4                           Allen, Mr. William Henry    male  35.0      0   \n",
       "\n",
       "   Parch            Ticket     Fare Cabin Embarked  \n",
       "0      0         A/5 21171   7.2500   NaN        S  \n",
       "1      0          PC 17599  71.2833   C85        C  \n",
       "2      0  STON/O2. 3101282   7.9250   NaN        S  \n",
       "3      0            113803  53.1000  C123        S  \n",
       "4      0            373450   8.0500   NaN        S  "
      ]
     },
     "execution_count": 145,
     "metadata": {},
     "output_type": "execute_result"
    }
   ],
   "source": [
    "titanic_data = pd.read_csv('/Users/123/train.csv')\n",
    "titanic_data.head(5)"
   ]
  },
  {
   "cell_type": "code",
   "execution_count": 146,
   "id": "a08a3cd6",
   "metadata": {},
   "outputs": [
    {
     "data": {
      "text/plain": [
       "PassengerId      0\n",
       "Survived         0\n",
       "Pclass           0\n",
       "Name             0\n",
       "Sex              0\n",
       "Age            177\n",
       "SibSp            0\n",
       "Parch            0\n",
       "Ticket           0\n",
       "Fare             0\n",
       "Cabin          687\n",
       "Embarked         2\n",
       "dtype: int64"
      ]
     },
     "execution_count": 146,
     "metadata": {},
     "output_type": "execute_result"
    }
   ],
   "source": [
    "titanic_data.isnull().sum()"
   ]
  },
  {
   "cell_type": "code",
   "execution_count": 147,
   "id": "b701ab86",
   "metadata": {},
   "outputs": [],
   "source": [
    "X = titanic_data.drop(['PassengerId', 'Survived', 'Name', 'Ticket', 'Cabin'], axis = 1)\n",
    "Y = titanic_data['Survived']\n",
    "\n",
    "X.loc[X[(X.Age.isna() == True) & (X.Sex == 'male')].index,'Age'] = \\\n",
    "X.loc[X[(X.Age.isna() == True) & (X.Sex == 'male')].index,'Age'].fillna(\n",
    "    X.loc[X[(X.Age.isna() == False) & (X.Sex == 'male')].index,'Age'].median())\n",
    "\n",
    "X.loc[X[(X.Age.isna() == True) & (X.Sex == 'female')].index,'Age'] = \\\n",
    "X.loc[X[(X.Age.isna() == True) & (X.Sex == 'female')].index,'Age'].fillna(\n",
    "    X.loc[X[(X.Age.isna() == False) & (X.Sex == 'female')].index,'Age'].median())\n",
    "\n",
    "X = pd.get_dummies(X)\n",
    "# Выбираем фитчи и отклики, которые хотим классифицировать. Также заполняем NA значения медианой для женщин и мужчин"
   ]
  },
  {
   "cell_type": "code",
   "execution_count": 148,
   "id": "dd266d70",
   "metadata": {},
   "outputs": [
    {
     "data": {
      "text/plain": [
       "DecisionTreeClassifier(criterion='entropy')"
      ]
     },
     "execution_count": 148,
     "metadata": {},
     "output_type": "execute_result"
    }
   ],
   "source": [
    "clf = tree.DecisionTreeClassifier(criterion = 'entropy')\n",
    "clf.fit(X, Y)"
   ]
  },
  {
   "cell_type": "code",
   "execution_count": 149,
   "id": "ed28b2d8",
   "metadata": {
    "scrolled": false
   },
   "outputs": [
    {
     "data": {
      "application/vnd.jupyter.widget-view+json": {
       "model_id": "5d3b4e9f3e0e4cf39bcdb9766c3e2fd7",
       "version_major": 2,
       "version_minor": 0
      },
      "text/plain": [
       "interactive(children=(IntSlider(value=100, continuous_update=False, description='Scale (%):', max=500, min=30)…"
      ]
     },
     "metadata": {},
     "output_type": "display_data"
    },
    {
     "data": {
      "text/plain": [
       "<function __main__.draw_graphviz.<locals>._draw_svg(scale)>"
      ]
     },
     "execution_count": 149,
     "metadata": {},
     "output_type": "execute_result"
    }
   ],
   "source": [
    "def draw_graphviz(graph):\n",
    "    import re\n",
    "    import ipywidgets as widgets\n",
    "    from IPython.display import SVG, HTML\n",
    "    from graphviz import Source\n",
    "    \n",
    "    graph = Source(graph)\n",
    "    image = graph.pipe(format=\"svg\")\n",
    "    svg = SVG(image)\n",
    "    svg_data = svg.data\n",
    "    svg_data = re.sub(\n",
    "        r'<svg xmlns=\\\"http://www\\.w3\\.org/2000/svg\\\" xmlns:xlink=\\\"http://www\\.w3\\.org/1999/xlink\\\" width=\\\"\\d+pt\\\" height=\\\"\\d+pt\\\"',\n",
    "        '<svg xmlns=\"http://www.w3.org/2000/svg\" xmlns:xlink=\"http://www.w3.org/1999/xlink\" width=\"100%\" height=\"100%\"',\n",
    "        svg_data,\n",
    "    )\n",
    "    \n",
    "    @widgets.interact(scale=widgets.IntSlider(min=30, max=500, step=1, value=100, description=\"Scale (%):\", continuous_update=False))\n",
    "    def _draw_svg(scale):\n",
    "        return HTML('<div style=\"width: {width}%;\">{svg}</div>'.format(width=scale, svg=svg_data))\n",
    "    return _draw_svg\n",
    "\n",
    "graph = tree.export_graphviz(clf, out_file = None,\n",
    "                                   feature_names = list(X),\n",
    "                                   class_names = ['Died', 'Survived'],\n",
    "                                   filled = True)\n",
    "draw_graphviz(graph)\n",
    "# Изображаем решающее дерево, полученно после обучения модели на исходных X и Y. Вляпились в переобучение"
   ]
  },
  {
   "cell_type": "code",
   "execution_count": 150,
   "id": "571d018c",
   "metadata": {},
   "outputs": [],
   "source": [
    "x_train, x_test, y_train, y_test= train_test_split(X, Y, test_size = .33, random_state = 42)"
   ]
  },
  {
   "cell_type": "code",
   "execution_count": 151,
   "id": "51693e36",
   "metadata": {},
   "outputs": [],
   "source": [
    "max_depth_value = range(1, 100)\n",
    "scores_data = pd.DataFrame()\n",
    "\n",
    "for max_depth in max_depth_value:\n",
    "    clf = tree.DecisionTreeClassifier(criterion = 'entropy', max_depth = max_depth)\n",
    "    clf.fit(x_train, y_train)\n",
    "    train_score = clf.score(x_train, y_train)\n",
    "    test_score = clf.score(x_test, y_test)\n",
    "    \n",
    "    temp_data = pd.DataFrame({'max_depth': [max_depth], \n",
    "                              'train_score': [train_score], \n",
    "                              'test_score': [test_score]})\n",
    "    scores_data = scores_data.append(temp_data)\n",
    "# Пишем цикл нахождения оценок (accuracy) относительно изменения глубины дерева"
   ]
  },
  {
   "cell_type": "code",
   "execution_count": 152,
   "id": "d32b06b1",
   "metadata": {},
   "outputs": [
    {
     "data": {
      "text/plain": [
       "<AxesSubplot:xlabel='max_depth', ylabel='score'>"
      ]
     },
     "execution_count": 152,
     "metadata": {},
     "output_type": "execute_result"
    },
    {
     "data": {
      "image/png": "[encoded data removed]",
      "text/plain": [
       "<Figure size 648x432 with 1 Axes>"
      ]
     },
     "metadata": {},
     "output_type": "display_data"
    }
   ],
   "source": [
    "scores_data_melt = pd.melt(scores_data, id_vars = ['max_depth'], value_vars = ['train_score', 'test_score'],\n",
    "                          var_name = 'set_type', value_name = 'score')\n",
    "\n",
    "sns.lineplot(x = 'max_depth', y = 'score', hue = 'set_type', data = scores_data_melt)\n",
    "# После 17 глубины train_score практически не растет, а вот test_score заметно снижается. К тому же опять вляпались в \n",
    "# переобучение - обучались на одном и том же датасете. Нужна кроссвалидация"
   ]
  },
  {
   "cell_type": "code",
   "execution_count": 153,
   "id": "e94fca41",
   "metadata": {},
   "outputs": [],
   "source": [
    "max_depth_value = range(1, 100)\n",
    "scores_data = pd.DataFrame()\n",
    "\n",
    "for max_depth in max_depth_value:\n",
    "    clf = tree.DecisionTreeClassifier(criterion = 'entropy', max_depth = max_depth)\n",
    "    clf.fit(x_train, y_train)\n",
    "    train_score = clf.score(x_train, y_train)\n",
    "    test_score = clf.score(x_test, y_test)\n",
    "    mean_cross_val_score = cross_val_score(clf, x_train, y_train, cv = 10).mean()\n",
    "    \n",
    "    temp_data = pd.DataFrame({'max_depth': [max_depth], \n",
    "                              'train_score': [train_score], \n",
    "                              'test_score': [test_score],\n",
    "                              'cross_val_score': [mean_cross_val_score]})\n",
    "    scores_data = scores_data.append(temp_data)\n",
    "# Пишем цикл нахождения оценок (accuracy) относительно изменения глубины дерева c учетом усредненного показателя точности на\n",
    "# кроссвалидации"
   ]
  },
  {
   "cell_type": "code",
   "execution_count": 154,
   "id": "29cd8a2a",
   "metadata": {},
   "outputs": [
    {
     "data": {
      "text/plain": [
       "[<matplotlib.lines.Line2D at 0x1f6c79317f0>]"
      ]
     },
     "execution_count": 154,
     "metadata": {},
     "output_type": "execute_result"
    },
    {
     "data": {
      "image/png": "[encoded data removed]",
      "text/plain": [
       "<Figure size 648x432 with 1 Axes>"
      ]
     },
     "metadata": {},
     "output_type": "display_data"
    }
   ],
   "source": [
    "scores_data_melt = pd.melt(scores_data, id_vars = ['max_depth'], value_vars = ['train_score', 'test_score', 'cross_val_score'],\n",
    "                          var_name = 'set_type', value_name = 'score')\n",
    "\n",
    "sns.lineplot(x = 'max_depth', y = 'score', hue = 'set_type', data = scores_data_melt, marker = 'o')\n",
    "plt.plot(scores_data.query(\"cross_val_score == cross_val_score.max()\").max_depth,\n",
    "         scores_data.query(\"cross_val_score == cross_val_score.max()\").cross_val_score, \n",
    "         marker = \"o\", ms = 8, color = 'red')\n",
    "# Оптимальной глубиной дерево при кроссвалидации на 10 фолдах является 3\n",
    "# Переобучим модель с глубиной 3 и посчитаем точность accuracy_score на тестовых данных"
   ]
  },
  {
   "cell_type": "code",
   "execution_count": 155,
   "id": "1e586130",
   "metadata": {},
   "outputs": [
    {
     "data": {
      "text/plain": [
       "0.8203389830508474"
      ]
     },
     "execution_count": 155,
     "metadata": {},
     "output_type": "execute_result"
    }
   ],
   "source": [
    "best_clf = tree.DecisionTreeClassifier(criterion = 'entropy', max_depth = 3)\n",
    "best_clf.fit(x_train, y_train)\n",
    "best_clf.score(x_test, y_test)\n",
    "# Получили точность в 82% на наилучшей модели"
   ]
  },
  {
   "cell_type": "code",
   "execution_count": 156,
   "id": "522babef",
   "metadata": {},
   "outputs": [
    {
     "data": {
      "image/png": "[encoded data removed]",
      "text/plain": [
       "<Figure size 648x432 with 1 Axes>"
      ]
     },
     "metadata": {},
     "output_type": "display_data"
    }
   ],
   "source": [
    "y_predicted_prob = best_clf.predict_proba(x_test)\n",
    "fpr, tpr, thresholds = roc_curve(y_test, y_predicted_prob[:,1])\n",
    "roc_auc= auc(fpr, tpr)\n",
    "plt.figure()\n",
    "plt.plot(fpr, tpr, color='darkorange', \n",
    "         lw = 2, label='ROC curve (area = %0.2f)' % roc_auc)\n",
    "plt.plot([0, 1], [0, 1], color='navy', lw=2, linestyle='--')\n",
    "plt.xlim([0.0, 1.0])\n",
    "plt.ylim([0.0, 1.05])\n",
    "plt.xlabel('False Positive Rate')\n",
    "plt.ylabel('True Positive Rate')\n",
    "plt.title('Receiver operating characteristic example')\n",
    "plt.legend(loc=\"lower right\")\n",
    "plt.show()"
   ]
  },
  {
   "cell_type": "markdown",
   "id": "b6f8fc3e",
   "metadata": {},
   "source": [
    "# Kaggle Mushroom competition"
   ]
  },
  {
   "cell_type": "code",
   "execution_count": 10,
   "id": "8984df02",
   "metadata": {},
   "outputs": [],
   "source": [
    "from sklearn.ensemble import RandomForestClassifier"
   ]
  },
  {
   "cell_type": "code",
   "execution_count": 7,
   "id": "48db9f66",
   "metadata": {},
   "outputs": [
    {
     "data": {
      "text/html": [
       "<div>\n",
       "<style scoped>\n",
       "    .dataframe tbody tr th:only-of-type {\n",
       "        vertical-align: middle;\n",
       "    }\n",
       "\n",
       "    .dataframe tbody tr th {\n",
       "        vertical-align: top;\n",
       "    }\n",
       "\n",
       "    .dataframe thead th {\n",
       "        text-align: right;\n",
       "    }\n",
       "</style>\n",
       "<table border=\"1\" class=\"dataframe\">\n",
       "  <thead>\n",
       "    <tr style=\"text-align: right;\">\n",
       "      <th></th>\n",
       "      <th>cap-shape</th>\n",
       "      <th>cap-surface</th>\n",
       "      <th>cap-color</th>\n",
       "      <th>bruises</th>\n",
       "      <th>odor</th>\n",
       "      <th>gill-attachment</th>\n",
       "      <th>gill-spacing</th>\n",
       "      <th>gill-size</th>\n",
       "      <th>gill-color</th>\n",
       "      <th>stalk-shape</th>\n",
       "      <th>...</th>\n",
       "      <th>stalk-color-above-ring</th>\n",
       "      <th>stalk-color-below-ring</th>\n",
       "      <th>veil-type</th>\n",
       "      <th>veil-color</th>\n",
       "      <th>ring-number</th>\n",
       "      <th>ring-type</th>\n",
       "      <th>spore-print-color</th>\n",
       "      <th>population</th>\n",
       "      <th>habitat</th>\n",
       "      <th>class</th>\n",
       "    </tr>\n",
       "  </thead>\n",
       "  <tbody>\n",
       "    <tr>\n",
       "      <th>0</th>\n",
       "      <td>2</td>\n",
       "      <td>0</td>\n",
       "      <td>3</td>\n",
       "      <td>1</td>\n",
       "      <td>5</td>\n",
       "      <td>1</td>\n",
       "      <td>0</td>\n",
       "      <td>0</td>\n",
       "      <td>9</td>\n",
       "      <td>1</td>\n",
       "      <td>...</td>\n",
       "      <td>3</td>\n",
       "      <td>7</td>\n",
       "      <td>0</td>\n",
       "      <td>2</td>\n",
       "      <td>1</td>\n",
       "      <td>4</td>\n",
       "      <td>3</td>\n",
       "      <td>5</td>\n",
       "      <td>0</td>\n",
       "      <td>0</td>\n",
       "    </tr>\n",
       "    <tr>\n",
       "      <th>1</th>\n",
       "      <td>2</td>\n",
       "      <td>0</td>\n",
       "      <td>4</td>\n",
       "      <td>0</td>\n",
       "      <td>5</td>\n",
       "      <td>1</td>\n",
       "      <td>0</td>\n",
       "      <td>1</td>\n",
       "      <td>10</td>\n",
       "      <td>0</td>\n",
       "      <td>...</td>\n",
       "      <td>7</td>\n",
       "      <td>4</td>\n",
       "      <td>0</td>\n",
       "      <td>2</td>\n",
       "      <td>1</td>\n",
       "      <td>0</td>\n",
       "      <td>7</td>\n",
       "      <td>4</td>\n",
       "      <td>0</td>\n",
       "      <td>1</td>\n",
       "    </tr>\n",
       "    <tr>\n",
       "      <th>2</th>\n",
       "      <td>2</td>\n",
       "      <td>0</td>\n",
       "      <td>3</td>\n",
       "      <td>0</td>\n",
       "      <td>2</td>\n",
       "      <td>1</td>\n",
       "      <td>0</td>\n",
       "      <td>0</td>\n",
       "      <td>7</td>\n",
       "      <td>0</td>\n",
       "      <td>...</td>\n",
       "      <td>0</td>\n",
       "      <td>4</td>\n",
       "      <td>0</td>\n",
       "      <td>2</td>\n",
       "      <td>1</td>\n",
       "      <td>2</td>\n",
       "      <td>1</td>\n",
       "      <td>5</td>\n",
       "      <td>1</td>\n",
       "      <td>1</td>\n",
       "    </tr>\n",
       "    <tr>\n",
       "      <th>3</th>\n",
       "      <td>0</td>\n",
       "      <td>0</td>\n",
       "      <td>3</td>\n",
       "      <td>0</td>\n",
       "      <td>5</td>\n",
       "      <td>1</td>\n",
       "      <td>1</td>\n",
       "      <td>0</td>\n",
       "      <td>2</td>\n",
       "      <td>0</td>\n",
       "      <td>...</td>\n",
       "      <td>7</td>\n",
       "      <td>7</td>\n",
       "      <td>0</td>\n",
       "      <td>2</td>\n",
       "      <td>2</td>\n",
       "      <td>4</td>\n",
       "      <td>7</td>\n",
       "      <td>3</td>\n",
       "      <td>1</td>\n",
       "      <td>0</td>\n",
       "    </tr>\n",
       "    <tr>\n",
       "      <th>4</th>\n",
       "      <td>2</td>\n",
       "      <td>3</td>\n",
       "      <td>3</td>\n",
       "      <td>1</td>\n",
       "      <td>5</td>\n",
       "      <td>1</td>\n",
       "      <td>0</td>\n",
       "      <td>0</td>\n",
       "      <td>10</td>\n",
       "      <td>1</td>\n",
       "      <td>...</td>\n",
       "      <td>3</td>\n",
       "      <td>6</td>\n",
       "      <td>0</td>\n",
       "      <td>2</td>\n",
       "      <td>1</td>\n",
       "      <td>4</td>\n",
       "      <td>2</td>\n",
       "      <td>5</td>\n",
       "      <td>0</td>\n",
       "      <td>0</td>\n",
       "    </tr>\n",
       "  </tbody>\n",
       "</table>\n",
       "<p>5 rows × 23 columns</p>\n",
       "</div>"
      ],
      "text/plain": [
       "   cap-shape  cap-surface  cap-color  bruises  odor  gill-attachment  \\\n",
       "0          2            0          3        1     5                1   \n",
       "1          2            0          4        0     5                1   \n",
       "2          2            0          3        0     2                1   \n",
       "3          0            0          3        0     5                1   \n",
       "4          2            3          3        1     5                1   \n",
       "\n",
       "   gill-spacing  gill-size  gill-color  stalk-shape  ...  \\\n",
       "0             0          0           9            1  ...   \n",
       "1             0          1          10            0  ...   \n",
       "2             0          0           7            0  ...   \n",
       "3             1          0           2            0  ...   \n",
       "4             0          0          10            1  ...   \n",
       "\n",
       "   stalk-color-above-ring  stalk-color-below-ring  veil-type  veil-color  \\\n",
       "0                       3                       7          0           2   \n",
       "1                       7                       4          0           2   \n",
       "2                       0                       4          0           2   \n",
       "3                       7                       7          0           2   \n",
       "4                       3                       6          0           2   \n",
       "\n",
       "   ring-number  ring-type  spore-print-color  population  habitat  class  \n",
       "0            1          4                  3           5        0      0  \n",
       "1            1          0                  7           4        0      1  \n",
       "2            1          2                  1           5        1      1  \n",
       "3            2          4                  7           3        1      0  \n",
       "4            1          4                  2           5        0      0  \n",
       "\n",
       "[5 rows x 23 columns]"
      ]
     },
     "execution_count": 7,
     "metadata": {},
     "output_type": "execute_result"
    }
   ],
   "source": [
    "data = pd.read_csv('./Downloads/training_mush.csv')\n",
    "data.head(5)"
   ]
  },
  {
   "cell_type": "code",
   "execution_count": 25,
   "id": "83c8451b",
   "metadata": {},
   "outputs": [
    {
     "data": {
      "text/plain": [
       "{'max_depth': 9,\n",
       " 'min_samples_leaf': 1,\n",
       " 'min_samples_split': 2,\n",
       " 'n_estimators': 10}"
      ]
     },
     "execution_count": 25,
     "metadata": {},
     "output_type": "execute_result"
    }
   ],
   "source": [
    "X_train = data.loc[:, data.columns != 'class']\n",
    "y_train = data.loc[:, 'class']\n",
    "\n",
    "params = {'n_estimators': range(10, 51, 10),\n",
    "         'max_depth': range(1, 13, 2),\n",
    "         'min_samples_leaf': range(1, 7),\n",
    "         'min_samples_split': range(2, 10, 2)\n",
    "         }\n",
    "rf = RandomForestClassifier(random_state = 0)\n",
    "clf = GridSearchCV(rf, params, cv = 3, n_jobs = -1)\n",
    "clf.fit(X_train, y_train)\n",
    "clf.best_params_"
   ]
  },
  {
   "cell_type": "code",
   "execution_count": 45,
   "id": "7906c8d2",
   "metadata": {},
   "outputs": [
    {
     "data": {
      "text/plain": [
       "<AxesSubplot:>"
      ]
     },
     "execution_count": 45,
     "metadata": {},
     "output_type": "execute_result"
    },
    {
     "data": {
      "image/png": "[encoded data removed]",
      "text/plain": [
       "<Figure size 648x432 with 1 Axes>"
      ]
     },
     "metadata": {},
     "output_type": "display_data"
    }
   ],
   "source": [
    "ft_imp = pd.Series(clf.best_estimator_.feature_importances_, X_train.columns)\n",
    "ft_imp.sort_values(ascending = True).plot(kind = 'barh')"
   ]
  },
  {
   "cell_type": "code",
   "execution_count": 47,
   "id": "8b23e0fa",
   "metadata": {},
   "outputs": [
    {
     "data": {
      "text/plain": [
       "976"
      ]
     },
     "execution_count": 47,
     "metadata": {},
     "output_type": "execute_result"
    }
   ],
   "source": [
    "X_test = pd.read_csv('./Downloads/testing_mush.csv')\n",
    "best_model = clf.best_estimator_\n",
    "predictions = best_model.predict(X_test)\n",
    "predictions.sum()"
   ]
  },
  {
   "cell_type": "code",
   "execution_count": 53,
   "id": "762345da",
   "metadata": {},
   "outputs": [
    {
     "data": {
      "text/plain": [
       "<sklearn.metrics._plot.confusion_matrix.ConfusionMatrixDisplay at 0x1f6c6a0ac40>"
      ]
     },
     "execution_count": 53,
     "metadata": {},
     "output_type": "execute_result"
    },
    {
     "data": {
      "image/png": "[encoded data removed]",
      "text/plain": [
       "<Figure size 648x432 with 2 Axes>"
      ]
     },
     "metadata": {},
     "output_type": "display_data"
    }
   ],
   "source": [
    "import zipfile\n",
    "from sklearn.metrics import plot_confusion_matrix\n",
    "\n",
    "z = zipfile.ZipFile('./Downloads/testing_y_mush.csv.zip', 'r')\n",
    "txtfile = z.extract('testing_y_mush.csv',pwd = \"Cool!Move_forward!\".encode('cp850', 'replace'))\n",
    "\n",
    "y_true = pd.read_csv(txtfile)\n",
    "plot_confusion_matrix(best_model, X_test, y_true, cmap=plt.cm.Blues, values_format='.2g')"
   ]
  }
 ],
 "metadata": {
  "kernelspec": {
   "display_name": "Python 3 (ipykernel)",
   "language": "python",
   "name": "python3"
  },
  "language_info": {
   "codemirror_mode": {
    "name": "ipython",
    "version": 3
   },
   "file_extension": ".py",
   "mimetype": "text/x-python",
   "name": "python",
   "nbconvert_exporter": "python",
   "pygments_lexer": "ipython3",
   "version": "3.9.7"
  }
 },
 "nbformat": 4,
 "nbformat_minor": 5
}
